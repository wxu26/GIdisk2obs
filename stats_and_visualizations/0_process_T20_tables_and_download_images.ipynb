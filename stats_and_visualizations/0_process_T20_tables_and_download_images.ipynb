{
 "cells": [
  {
   "cell_type": "markdown",
   "id": "ce5ee53a",
   "metadata": {},
   "source": [
    "# Merge tables from Tobin et al. (2020)"
   ]
  },
  {
   "cell_type": "code",
   "execution_count": 1,
   "id": "c5f9e0c1",
   "metadata": {},
   "outputs": [],
   "source": [
    "import numpy as np\n",
    "import astropy.table"
   ]
  },
  {
   "cell_type": "code",
   "execution_count": 2,
   "id": "3fd88f15",
   "metadata": {},
   "outputs": [],
   "source": [
    "# convert -99 (used to lable nan in table) to masked\n",
    "def mark_nan(table_in,col_name):\n",
    "    a = np.ma.MaskedArray(table_in[col_name], fill_value=np.nan)\n",
    "    a.mask = np.array([False]*len(a))\n",
    "    a.mask[a==-99] = True\n",
    "    table_in[col_name] = a\n",
    "    return table_in\n",
    "\n",
    "# create new columns for RA and DEC\n",
    "def get_RA_DEC(table_in):\n",
    "    RA_deg = (table_in['RAh']+table_in['RAm']/60+table_in['RAs']/3600)*(360/24)\n",
    "    DEC_deg = (table_in['DEd']+table_in['DEm']/60+table_in['DEs']/3600)*(1*(table_in['DE-']=='+')-1*(table_in['DE-']=='-'))\n",
    "    table_in['RA_deg'] = RA_deg\n",
    "    table_in['DEC_deg'] = DEC_deg\n",
    "    return table_in\n",
    "\n",
    "# do both operations above\n",
    "def format_T20_table(table_in):\n",
    "    for col_name in table_in.columns:\n",
    "        if table_in[col_name].dtype == np.dtype('float64'):\n",
    "            table_in = mark_nan(table_in,col_name)\n",
    "    if 'RAh' in table_in.columns:\n",
    "        table_in = get_RA_DEC(table_in)\n",
    "    return table_in"
   ]
  },
  {
   "cell_type": "code",
   "execution_count": 3,
   "id": "dacb1552",
   "metadata": {},
   "outputs": [
    {
     "name": "stderr",
     "output_type": "stream",
     "text": [
      "WARNING: UnitsWarning: 'mJy/beam' did not parse as cds unit: At col 4, Unit 'beam' not supported by the CDS SAC standard.  If this is meant to be a custom unit, define it with 'u.def_unit'. To have it recognized inside a file reader or other code, enable it with 'u.add_enabled_units'. For details, see https://docs.astropy.org/en/latest/units/combining_and_defining.html [astropy.units.core]\n"
     ]
    }
   ],
   "source": [
    "field_alma = format_T20_table(astropy.table.Table.read(\"../data/Tobin_et_al_2020_tables/apjab6f64t2_mrt.txt\", format=\"ascii.cds\"))\n",
    "field_vla = format_T20_table(astropy.table.Table.read(\"../data/Tobin_et_al_2020_tables/apjab6f64t4_mrt.txt\", format=\"ascii.cds\"))\n",
    "data_alma = format_T20_table(astropy.table.Table.read(\"../data/Tobin_et_al_2020_tables/apjab6f64t6_mrt.txt\", format=\"ascii.cds\"))\n",
    "data_vla = format_T20_table(astropy.table.Table.read(\"../data/Tobin_et_al_2020_tables/apjab6f64t7_mrt.txt\", format=\"ascii.cds\"))\n",
    "data_derived = format_T20_table(astropy.table.Table.read(\"../data/Tobin_et_al_2020_tables/apjab6f64t8_mrt.txt\", format=\"ascii.cds\"))"
   ]
  },
  {
   "cell_type": "code",
   "execution_count": 4,
   "id": "2c625bb4",
   "metadata": {},
   "outputs": [],
   "source": [
    "# drop unecessary columns\n",
    "\n",
    "# fields\n",
    "to_keep = ['Field','Distance']\n",
    "to_drop = list(set(field_alma.columns)-set(to_keep))\n",
    "field_alma.remove_columns(to_drop)\n",
    "field_vla.remove_columns(to_drop)\n",
    "field_alma.rename_column('Field','FieldA')\n",
    "field_alma.rename_column('Distance','DistanceA')\n",
    "field_vla.rename_column('Field','FieldV')\n",
    "field_vla.rename_column('Distance','DistanceV')\n",
    "\n",
    "# alma / vla data\n",
    "to_drop = ['RAh','RAm','RAs','DE-','DEd','DEm','DEs','DistFA','DistFV','Class','Flag']\n",
    "data_alma.remove_columns(to_drop+['FieldV'])\n",
    "data_vla.remove_columns(to_drop+['FieldA'])\n",
    "for col in list(data_alma.columns):\n",
    "    if col not in ['Source','FieldA','FieldV']:\n",
    "        data_alma.rename_column(col, 'A_'+col)\n",
    "for col in list(data_vla.columns):\n",
    "    if col not in ['Source','FieldA','FieldV']:\n",
    "        data_vla.rename_column(col, 'V_'+col)"
   ]
  },
  {
   "cell_type": "code",
   "execution_count": 5,
   "id": "588db1b0",
   "metadata": {},
   "outputs": [
    {
     "name": "stderr",
     "output_type": "stream",
     "text": [
      "WARNING: MergeConflictWarning: In merged column 'FieldA' the 'description' attribute does not match (ALMA Field Name != ALMA Field Name (1)).  Using ALMA Field Name (1) for merged output [astropy.utils.metadata]\n",
      "WARNING: MergeConflictWarning: In merged column 'FieldV' the 'description' attribute does not match (VLA Field Name != VLA Field Name (1)).  Using VLA Field Name (1) for merged output [astropy.utils.metadata]\n"
     ]
    }
   ],
   "source": [
    "# joining the tables\n",
    "data_alma_w_dist = astropy.table.join(data_alma,field_alma,join_type='left',keys='FieldA')\n",
    "data_vla_w_dist  = astropy.table.join(data_vla ,field_vla ,join_type='left',keys='FieldV')\n",
    "data_all = astropy.table.join(data_derived, data_alma_w_dist, join_type='left',keys='Source')\n",
    "data_all = astropy.table.join(data_all, data_vla_w_dist, join_type='left',keys='Source')\n",
    "data_all = astropy.table.unique(data_all, silent=True) # remove duplicate rows\n",
    "data_all.add_index('Source') # add index by source"
   ]
  },
  {
   "cell_type": "code",
   "execution_count": 6,
   "id": "d9499afd",
   "metadata": {},
   "outputs": [
    {
     "data": {
      "text/html": [
       "<i>Table length=6</i>\n",
       "<table id=\"table140263169719888\" class=\"table-striped table-bordered table-condensed\">\n",
       "<thead><tr><th>Source</th><th>RAh</th><th>RAm</th><th>RAs</th><th>DE-</th><th>DEd</th><th>DEm</th><th>DEs</th><th>Lbol</th><th>Tbol</th><th>Class</th><th>RdiskA</th><th>e_RdiskA</th><th>RdiskV</th><th>e_RdiskV</th><th>MdiskA</th><th>e_MdiskA</th><th>MdiskV</th><th>e_MdiskV</th><th>QALMA</th><th>QVLA</th><th>SpIdxAV</th><th>e_SpIdxAV</th><th>SpIdxV</th><th>e_SpIdxV</th><th>Flag</th><th>RA_deg</th><th>DEC_deg</th><th>FieldA</th><th>A_Flux</th><th>A_e_Flux</th><th>A_PFlux</th><th>A_RMS</th><th>A_dBmaj</th><th>A_dBmin</th><th>A_dPA</th><th>A_RA_deg</th><th>A_DEC_deg</th><th>DistanceA</th><th>FieldV</th><th>V_Flux</th><th>V_e_Flux</th><th>V_PFlux</th><th>V_RMS</th><th>V_dBmaj</th><th>V_dBmin</th><th>V_dPA</th><th>V_RA_deg</th><th>V_DEC_deg</th><th>DistanceV</th></tr></thead>\n",
       "<thead><tr><th></th><th>h</th><th>min</th><th>s</th><th></th><th>deg</th><th>arcmin</th><th>arcsec</th><th></th><th></th><th></th><th></th><th></th><th></th><th></th><th></th><th></th><th></th><th></th><th></th><th></th><th></th><th></th><th></th><th></th><th></th><th></th><th></th><th></th><th></th><th></th><th></th><th></th><th></th><th></th><th></th><th></th><th></th><th></th><th></th><th></th><th></th><th></th><th></th><th></th><th></th><th></th><th></th><th></th><th></th></tr></thead>\n",
       "<thead><tr><th>str21</th><th>int64</th><th>int64</th><th>float64</th><th>str1</th><th>int64</th><th>int64</th><th>float64</th><th>float64</th><th>float64</th><th>str4</th><th>float64</th><th>float64</th><th>float64</th><th>float64</th><th>float64</th><th>float64</th><th>float64</th><th>float64</th><th>float64</th><th>float64</th><th>float64</th><th>float64</th><th>float64</th><th>float64</th><th>str2</th><th>float64</th><th>float64</th><th>str10</th><th>float64</th><th>float64</th><th>float64</th><th>float64</th><th>float64</th><th>float64</th><th>float64</th><th>float64</th><th>float64</th><th>float64</th><th>str12</th><th>float64</th><th>float64</th><th>float64</th><th>float64</th><th>float64</th><th>float64</th><th>float64</th><th>float64</th><th>float64</th><th>float64</th></tr></thead>\n",
       "<tr><td>HOPS-406</td><td>5</td><td>47</td><td>43.434</td><td>+</td><td>0</td><td>38</td><td>21.31</td><td>0.5</td><td>24.6</td><td>0</td><td>51.5</td><td>10.0</td><td>--</td><td>--</td><td>24.3</td><td>1.1</td><td>81.0</td><td>17.8</td><td>29.9</td><td>--</td><td>2.5</td><td>0.11</td><td>5.4</td><td>2.37</td><td>dd</td><td>86.93097499999999</td><td>0.6392527777777778</td><td>HOPS-406</td><td>15.471</td><td>0.694</td><td>8.174</td><td>0.21</td><td>0.14</td><td>0.11</td><td>64.2</td><td>86.93097499999999</td><td>0.6392527777777778</td><td>430.3</td><td>HOPS-406</td><td>0.041</td><td>0.009</td><td>0.044</td><td>8.51</td><td>0.0</td><td>0.0</td><td>0.0</td><td>86.93097916666666</td><td>0.6392583333333333</td><td>430.3</td></tr>\n",
       "<tr><td>HOPS-407</td><td>5</td><td>46</td><td>28.251</td><td>+</td><td>0</td><td>19</td><td>27.96</td><td>0.7</td><td>26.8</td><td>0</td><td>64.1</td><td>10.0</td><td>35.6</td><td>10.0</td><td>83.2</td><td>2.4</td><td>238.4</td><td>30.9</td><td>7.43</td><td>2.81</td><td>2.6</td><td>0.08</td><td>1.5</td><td>1.17</td><td>dd</td><td>86.6177125</td><td>0.3244333333333333</td><td>HOPS-407</td><td>62.196</td><td>1.762</td><td>24.426</td><td>0.43</td><td>0.18</td><td>0.14</td><td>173.6</td><td>86.6177125</td><td>0.3244333333333333</td><td>419.1</td><td>HOPS-407</td><td>0.139</td><td>0.018</td><td>0.096</td><td>6.9</td><td>0.1</td><td>0.04</td><td>162.2</td><td>86.6177125</td><td>0.3244388888888889</td><td>419.1</td></tr>\n",
       "<tr><td>HOPS-408</td><td>5</td><td>39</td><td>30.904</td><td>-</td><td>7</td><td>23</td><td>59.67</td><td>0.5</td><td>37.9</td><td>0</td><td>93.5</td><td>10.0</td><td>22.0</td><td>10.0</td><td>124.5</td><td>3.6</td><td>364.1</td><td>29.4</td><td>5.11</td><td>2.22</td><td>2.6</td><td>0.07</td><td>1.8</td><td>0.69</td><td>dd</td><td>84.87876666666668</td><td>-7.399908333333333</td><td>HOPS-408</td><td>90.365</td><td>2.492</td><td>20.64</td><td>0.37</td><td>0.28</td><td>0.24</td><td>157.5</td><td>84.87876666666668</td><td>-7.399908333333333</td><td>398.9</td><td>HOPS-408</td><td>0.211</td><td>0.017</td><td>0.154</td><td>7.22</td><td>0.07</td><td>0.05</td><td>141.4</td><td>84.87877083333333</td><td>-7.399908333333333</td><td>398.9</td></tr>\n",
       "<tr><td>HOPS-409</td><td>5</td><td>35</td><td>21.363</td><td>-</td><td>5</td><td>13</td><td>17.83</td><td>7.2</td><td>28.4</td><td>0</td><td>112.1</td><td>10.0</td><td>54.7</td><td>10.0</td><td>110.7</td><td>1.1</td><td>684.8</td><td>31.0</td><td>2.44</td><td>0.5</td><td>2.3</td><td>0.06</td><td>2.5</td><td>0.4</td><td>dd</td><td>83.8390125</td><td>-5.221619444444444</td><td>HOPS-409</td><td>185.41</td><td>1.9</td><td>39.275</td><td>0.36</td><td>0.34</td><td>0.12</td><td>115.8</td><td>83.8390125</td><td>-5.221619444444444</td><td>392.8</td><td>HOPS-409</td><td>0.818</td><td>0.037</td><td>0.279</td><td>9.5</td><td>0.16</td><td>0.06</td><td>108.5</td><td>83.83901666666667</td><td>-5.221616666666667</td><td>392.8</td></tr>\n",
       "<tr><td>HOPS-41</td><td>5</td><td>34</td><td>29.463</td><td>-</td><td>5</td><td>35</td><td>42.8</td><td>1.7</td><td>82.3</td><td>I</td><td>13.3</td><td>10.0</td><td>--</td><td>--</td><td>23.3</td><td>0.5</td><td>--</td><td>--</td><td>29.29</td><td>--</td><td>--</td><td>--</td><td>--</td><td>--</td><td>dn</td><td>83.62276250000001</td><td>-5.595222222222222</td><td>HOPS-41</td><td>25.979</td><td>0.555</td><td>23.025</td><td>0.29</td><td>0.04</td><td>0.03</td><td>45.5</td><td>83.62276250000001</td><td>-5.595222222222222</td><td>390.9</td><td>--</td><td>--</td><td>--</td><td>--</td><td>--</td><td>--</td><td>--</td><td>--</td><td>--</td><td>--</td><td>--</td></tr>\n",
       "<tr><td>HOPS-42</td><td>5</td><td>35</td><td>5.061</td><td>-</td><td>5</td><td>35</td><td>40.79</td><td>0.2</td><td>200.9</td><td>I</td><td>133.0</td><td>10.0</td><td>--</td><td>--</td><td>80.2</td><td>2.5</td><td>42.5</td><td>--</td><td>8.89</td><td>--</td><td>--</td><td>--</td><td>--</td><td>--</td><td>du</td><td>83.7710875</td><td>-5.594663888888888</td><td>HOPS-42</td><td>48.731</td><td>1.507</td><td>9.843</td><td>0.27</td><td>0.4</td><td>0.1</td><td>106.2</td><td>83.7710875</td><td>-5.594663888888888</td><td>391.7</td><td>HOPS-43</td><td>--</td><td>--</td><td>--</td><td>9.84</td><td>--</td><td>--</td><td>--</td><td>83.7710875</td><td>-5.594663888888888</td><td>391.7</td></tr>\n",
       "</table>"
      ],
      "text/plain": [
       "<Table length=6>\n",
       " Source   RAh   RAm    RAs   ...      V_RA_deg         V_DEC_deg      DistanceV\n",
       "           h    min     s    ...                                               \n",
       " str21   int64 int64 float64 ...      float64           float64        float64 \n",
       "-------- ----- ----- ------- ... ----------------- ------------------ ---------\n",
       "HOPS-406     5    47  43.434 ... 86.93097916666666 0.6392583333333333     430.3\n",
       "HOPS-407     5    46  28.251 ...        86.6177125 0.3244388888888889     419.1\n",
       "HOPS-408     5    39  30.904 ... 84.87877083333333 -7.399908333333333     398.9\n",
       "HOPS-409     5    35  21.363 ... 83.83901666666667 -5.221616666666667     392.8\n",
       " HOPS-41     5    34  29.463 ...                --                 --        --\n",
       " HOPS-42     5    35   5.061 ...        83.7710875 -5.594663888888888     391.7"
      ]
     },
     "execution_count": 6,
     "metadata": {},
     "output_type": "execute_result"
    }
   ],
   "source": [
    "# print out a few rows in the middle\n",
    "i0 = data_all.loc_indices['HOPS-409']\n",
    "data_all[i0-3:i0+3]"
   ]
  },
  {
   "cell_type": "code",
   "execution_count": 7,
   "id": "6fb3bba1",
   "metadata": {},
   "outputs": [
    {
     "name": "stderr",
     "output_type": "stream",
     "text": [
      "WARNING: AstropyDeprecationWarning: ../data/VANDAM_T20_properties.txt already exists. Automatically overwriting ASCII files is deprecated. Use the argument 'overwrite=True' in the future. [astropy.io.ascii.ui]\n"
     ]
    }
   ],
   "source": [
    "# save the table\n",
    "data_all.write(\"../data/VANDAM_T20_properties.txt\", format=\"ascii\")"
   ]
  },
  {
   "cell_type": "markdown",
   "id": "77949da2",
   "metadata": {},
   "source": [
    "# Sample selection"
   ]
  },
  {
   "cell_type": "code",
   "execution_count": 8,
   "id": "e85931e5",
   "metadata": {},
   "outputs": [
    {
     "name": "stdout",
     "output_type": "stream",
     "text": [
      "163 sources in list\n"
     ]
    }
   ],
   "source": [
    "data = data_all\n",
    "source_list = []\n",
    "n_row = len(data['Source'])\n",
    "for i in range(n_row):\n",
    "    # requirements:\n",
    "    # (1) systems observed by both ALMA and VLA\n",
    "    # (2)finite dconvolved size (required for inclination estimate)\n",
    "    flag = data['Flag'][i] == 'dd' and data['A_dBmin'][i]>0 and data['A_dBmaj'][i]>0\n",
    "    if flag: source_list.append(data['Source'][i])\n",
    "print(len(source_list), 'sources in list')"
   ]
  },
  {
   "cell_type": "markdown",
   "id": "bc30ff5b",
   "metadata": {},
   "source": [
    "A few of these sources will be excluded from our sample because the corresponding images are not avilable at https://dataverse.harvard.edu/dataverse/VANDAMOrion"
   ]
  },
  {
   "cell_type": "code",
   "execution_count": 9,
   "id": "ba158b61",
   "metadata": {},
   "outputs": [],
   "source": [
    "# save the list of systems; this preserves the order and\n",
    "# makes it easier to re-draw the same random subsamples\n",
    "# in the future.\n",
    "np.save('../data/Xu22_sources.npy',source_list)"
   ]
  },
  {
   "cell_type": "markdown",
   "id": "d8629f2e",
   "metadata": {},
   "source": [
    "# Download images and fit model to images"
   ]
  },
  {
   "cell_type": "code",
   "execution_count": 10,
   "id": "bb948dd0",
   "metadata": {},
   "outputs": [],
   "source": [
    "import download_vandam_image"
   ]
  },
  {
   "cell_type": "code",
   "execution_count": 11,
   "id": "295cb985",
   "metadata": {},
   "outputs": [
    {
     "name": "stdout",
     "output_type": "stream",
     "text": [
      "file name: HOPS-409_cont_robust0.5.pbcor.fits\n",
      "file already exists, skipping download\n",
      "file name: HOPS-409.A.Ka.cont.0.5.robust.image.pbcor.fits\n",
      "file already exists, skipping download\n"
     ]
    }
   ],
   "source": [
    "# example: download one image\n",
    "_=download_vandam_image.download_image('HOPS-409',obs='both',folder='../data/observation',verbose=True)"
   ]
  },
  {
   "cell_type": "code",
   "execution_count": 12,
   "id": "527d8ead",
   "metadata": {},
   "outputs": [
    {
     "data": {
      "text/plain": [
       "\"\\nfor s in source_list:\\n    suc = download_vandam_image.download_image(s,obs='both',folder='../data/observation',verbose=False)\\n    if suc:\\n        print('success:',s)\\n    else:\\n        print('-FAILED:',s)\\n\""
      ]
     },
     "execution_count": 12,
     "metadata": {},
     "output_type": "execute_result"
    }
   ],
   "source": [
    "# If you want to re-do the fittings, download images and fit the model\n",
    "# to the images using the commented code below.\n",
    "# Otherwise, run download_fitted_systems.py to download pkl files\n",
    "# containing fitted models to ../data/fitted_systems.\n",
    "\n",
    "pkl files containing fitted models are avilable at\n",
    "# ../data/fitted_systems.\n",
    "\n",
    "# uncomment this code block to download all images in the source list\n",
    "\"\"\"\n",
    "for s in source_list:\n",
    "    suc = download_vandam_image.download_image(\n",
    "        s,obs='both',\n",
    "        folder='../data/observation',\n",
    "        data_table='../data/VANDAM_T20_properties.txt',\n",
    "        verbose=False)\n",
    "    if suc:\n",
    "        print('success:',s)\n",
    "    else:\n",
    "        print('-FAILED:',s)\n",
    "\"\"\"\n",
    "# uncomment this code block to fit the model for all images\n",
    "\"\"\"\n",
    "from disk_model import fit_vandam_image\n",
    "Ds = []\n",
    "for s in source_list:\n",
    "    D = fit_vandam_image(s, data_folder_path='../data')\n",
    "    Ds.append(D)\n",
    "\"\"\""
   ]
  },
  {
   "cell_type": "code",
   "execution_count": null,
   "id": "0ec8e49b",
   "metadata": {},
   "outputs": [],
   "source": []
  }
 ],
 "metadata": {
  "kernelspec": {
   "display_name": "Python 3",
   "language": "python",
   "name": "python3"
  },
  "language_info": {
   "codemirror_mode": {
    "name": "ipython",
    "version": 3
   },
   "file_extension": ".py",
   "mimetype": "text/x-python",
   "name": "python",
   "nbconvert_exporter": "python",
   "pygments_lexer": "ipython3",
   "version": "3.8.8"
  }
 },
 "nbformat": 4,
 "nbformat_minor": 5
}
