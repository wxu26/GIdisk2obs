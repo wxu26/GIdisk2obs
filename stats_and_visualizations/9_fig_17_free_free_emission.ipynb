{
 "cells": [
  {
   "cell_type": "code",
   "execution_count": 1,
   "id": "51397d35",
   "metadata": {},
   "outputs": [],
   "source": [
    "import numpy as np\n",
    "import matplotlib.pyplot as plt\n",
    "import pickle\n",
    "from fig_style import *\n",
    "\n",
    "import sys\n",
    "sys.path.insert(0,'../')\n",
    "from disk_model import DiskFitting, DiskImage\n",
    "\n",
    "import astropy.constants as const\n",
    "au = const.au.cgs.value"
   ]
  },
  {
   "cell_type": "code",
   "execution_count": 2,
   "id": "97e0035f",
   "metadata": {},
   "outputs": [],
   "source": [
    "import astropy\n",
    "data_all = astropy.table.Table.read(\"../data/VANDAM_T20_properties.txt\", format=\"ascii\")\n",
    "data_all.add_index('Source')"
   ]
  },
  {
   "cell_type": "code",
   "execution_count": 3,
   "id": "c75df635",
   "metadata": {},
   "outputs": [],
   "source": [
    "source_list = np.load(\"../data/Xu22_sources.npy\")"
   ]
  },
  {
   "cell_type": "code",
   "execution_count": 4,
   "id": "7b820e15",
   "metadata": {},
   "outputs": [],
   "source": [
    "def get_pa_diff(pa1, pa2):\n",
    "    dpa = abs(pa1-pa2)\n",
    "    if dpa>90:\n",
    "        dpa = 180-dpa\n",
    "    return dpa"
   ]
  },
  {
   "cell_type": "code",
   "execution_count": 5,
   "id": "4046e9e3",
   "metadata": {},
   "outputs": [],
   "source": [
    "def get_dpa(cosI_crit, inverse=False):\n",
    "    pa_a = []\n",
    "    pa_v = []\n",
    "    for s in source_list:\n",
    "        i = data_all.loc_indices[s]\n",
    "        include = (data_all['A_dBmaj'][i]*cosI_crit >= data_all['A_dBmin'][i])\n",
    "        if inverse: include=~include\n",
    "        if include:\n",
    "            pa_a.append(data_all['A_dPA'][i])\n",
    "            pa_v.append(data_all['V_dPA'][i])\n",
    "    if len(pa_a)==0:\n",
    "        return np.array([np.nan])\n",
    "    return np.vectorize(get_pa_diff)(pa_a, pa_v)"
   ]
  },
  {
   "cell_type": "code",
   "execution_count": 6,
   "id": "05047ce0",
   "metadata": {},
   "outputs": [],
   "source": [
    "def get_cosI():\n",
    "    cosI = []\n",
    "    for s in source_list:\n",
    "        i = data_all.loc_indices[s]\n",
    "        cosI.append(data_all['A_dBmin'][i]/data_all['A_dBmaj'][i])\n",
    "    return cosI"
   ]
  },
  {
   "cell_type": "code",
   "execution_count": 7,
   "id": "d6337071",
   "metadata": {},
   "outputs": [
    {
     "data": {
      "text/plain": [
       "Text(0.5, 0, 'Misalignment between 0.78 mm and 9 mm emission [deg]')"
      ]
     },
     "execution_count": 7,
     "metadata": {},
     "output_type": "execute_result"
    },
    {
     "data": {
      "image/png": "[encoded data removed]",
      "text/plain": [
       "<Figure size 360x216 with 2 Axes>"
      ]
     },
     "metadata": {
      "needs_background": "light"
     },
     "output_type": "display_data"
    }
   ],
   "source": [
    "fig = plt.figure(figsize=(5,3))\n",
    "bins = np.linspace(0,90,6*2+1)\n",
    "import matplotlib\n",
    "cosI_list = np.linspace(1, 0.25, 4)\n",
    "N = len(cosI_list)\n",
    "colors = matplotlib.cm.get_cmap('Blues')((np.arange(N)+0.5)/N)\n",
    "for i in range(N):\n",
    "    plt.hist(get_dpa(cosI_list[i]), bins=bins, density=False, color=colors[i])\n",
    "#for cosI in [1]:\n",
    "#    plt.hist(get_dpa(cosI), bins=bins, density=False, histtype='step', color='k')\n",
    "\n",
    "plt.contourf([-1,-1],[-1,-1],np.ones((2,2)),levels=np.linspace(0,1,5),cmap='Blues_r')\n",
    "cb = plt.colorbar(label=r'$\\cos I$')\n",
    "cb.ax.tick_params(width=0)\n",
    "\n",
    "plt.xlim(0,90)\n",
    "plt.ylim(0,40)\n",
    "plt.yticks([0,10,20,30,40])\n",
    "plt.xticks([0,15,30,45,60,75,90])\n",
    "set_ticks()\n",
    "plt.xlabel('Misalignment between 0.78 mm and 9 mm emission [deg]')\n",
    "#plt.savefig('../figures/free_free_alignment.pdf',bbox_inches='tight')"
   ]
  },
  {
   "cell_type": "markdown",
   "id": "03afa0b7",
   "metadata": {},
   "source": [
    "# Estimate using scalings in "
   ]
  }
 ],
 "metadata": {
  "kernelspec": {
   "display_name": "Python 3 (ipykernel)",
   "language": "python",
   "name": "python3"
  },
  "language_info": {
   "codemirror_mode": {
    "name": "ipython",
    "version": 3
   },
   "file_extension": ".py",
   "mimetype": "text/x-python",
   "name": "python",
   "nbconvert_exporter": "python",
   "pygments_lexer": "ipython3",
   "version": "3.9.7"
  }
 },
 "nbformat": 4,
 "nbformat_minor": 5
}
