{
 "cells": [
  {
   "cell_type": "code",
   "execution_count": 1,
   "id": "034015d7",
   "metadata": {},
   "outputs": [],
   "source": [
    "import numpy as np\n",
    "import matplotlib.pyplot as plt\n",
    "import pickle\n",
    "from fig_style import *\n",
    "\n",
    "import sys\n",
    "sys.path.insert(0,'../')\n",
    "from disk_model import DiskFitting, DiskImage"
   ]
  },
  {
   "cell_type": "code",
   "execution_count": 2,
   "id": "b4517602",
   "metadata": {},
   "outputs": [],
   "source": [
    "def get_central_flux(I, img, R0 = 20):\n",
    "    N = img.shape[0]\n",
    "    x = (np.arange(N)-N//2) * I.au_per_pix\n",
    "    x,y = np.meshgrid(x,x)\n",
    "    r = np.sqrt(x**2+y**2)\n",
    "    F_center = np.sum(img*(r<R0))/np.sum(r<R0)\n",
    "    return F_center\n",
    "\n",
    "def get_sp_ind(D, is_model=True):\n",
    "    Ia = D.disk_image_list[0]\n",
    "    Iv = D.disk_image_list[1]\n",
    "    if is_model:\n",
    "        imga = Ia.img_model; imgv = Iv.img_model\n",
    "    else:\n",
    "        imga = Ia.img; imgv = Iv.img\n",
    "    F1 = get_central_flux(Ia, imga)\n",
    "    F2 = get_central_flux(Iv, imgv)\n",
    "    nu1, nu2 = 1/0.087, 1/0.9 # arbitrary normalization\n",
    "    sp_ind = np.log(F1/F2)/np.log(nu1/nu2)\n",
    "    if (not is_model) and (F2<3*Iv.rms_Jy or F1<3*Ia.rms_Jy):\n",
    "        return np.nan\n",
    "    return sp_ind"
   ]
  },
  {
   "cell_type": "code",
   "execution_count": 3,
   "id": "547e6188",
   "metadata": {},
   "outputs": [],
   "source": [
    "with open('../data/fitted_systems/fit_1mm_Q1d5_age1e5.pkl','rb') as f:\n",
    "    Ds = pickle.load(f)\n",
    "with open('../data/fitted_systems/fit_1mm_Q1d5_age1e5_alma_only.pkl','rb') as f:\n",
    "    Ds_alma = pickle.load(f)\n",
    "with open('../data/fitted_systems/fit_1mm_Q1_age1e5.pkl','rb') as f:\n",
    "    Ds_Q1 = pickle.load(f)\n",
    "with open('../data/fitted_systems/fit_1mm_Q2_age1e5.pkl','rb') as f:\n",
    "    Ds_Q2 = pickle.load(f)\n",
    "with open('../data/fitted_systems/fit_1mm_Q10_age1e5.pkl','rb') as f:\n",
    "    Ds_Q10 = pickle.load(f)\n",
    "with open('../data/fitted_systems/fit_1mm_Q100_age1e5.pkl','rb') as f:\n",
    "    Ds_Q100 = pickle.load(f)"
   ]
  },
  {
   "cell_type": "code",
   "execution_count": 4,
   "id": "ec47c93a",
   "metadata": {},
   "outputs": [
    {
     "name": "stderr",
     "output_type": "stream",
     "text": [
      "<ipython-input-2-4bf3b881651e>:19: RuntimeWarning: invalid value encountered in log\n",
      "  sp_ind = np.log(F1/F2)/np.log(nu1/nu2)\n"
     ]
    }
   ],
   "source": [
    "# compute spectral index and only select systems\n",
    "# with flux > 3 sigma at both wavelengths.\n",
    "alpha_obs = np.array([get_sp_ind(D, False) for D in Ds])\n",
    "alpha_fid = np.array([get_sp_ind(D) for D in Ds])\n",
    "alpha_fid[np.isnan(alpha_obs)] = np.nan\n",
    "alpha_alma = np.array([get_sp_ind(D) for D in Ds_alma])\n",
    "alpha_alma[np.isnan(alpha_obs)] = np.nan\n",
    "alpha_Q10 = np.array([get_sp_ind(D) for D in Ds_Q10])\n",
    "alpha_Q10[np.isnan(alpha_obs)] = np.nan\n",
    "alpha_Q100 = np.array([get_sp_ind(D) for D in Ds_Q100])\n",
    "alpha_Q100[np.isnan(alpha_obs)] = np.nan"
   ]
  },
  {
   "cell_type": "code",
   "execution_count": 5,
   "id": "071e3345",
   "metadata": {},
   "outputs": [
    {
     "data": {
      "text/plain": [
       "2.1652182127733264"
      ]
     },
     "execution_count": 5,
     "metadata": {},
     "output_type": "execute_result"
    }
   ],
   "source": [
    "get_sp_ind(Ds[1], True)"
   ]
  },
  {
   "cell_type": "code",
   "execution_count": 6,
   "id": "46833aaa",
   "metadata": {},
   "outputs": [],
   "source": [
    "def plot_hist(y, leave_tick_labels=False, **kwargs):\n",
    "    bins = np.linspace(0, 5, 51)\n",
    "    plt.hist(y, bins=bins, density=True, histtype='stepfilled', **kwargs)\n",
    "    plt.xlim(1,4.8)\n",
    "    set_ticks()\n",
    "    if not leave_tick_labels:\n",
    "        plt.gca().set_xticklabels([])\n",
    "    plt.gca().set_yticks([])\n",
    "    yl = plt.ylim()\n",
    "    yl = (yl[0], yl[1]*1.25)\n",
    "    plt.plot([2,2],yl,'k:', lw=.5)\n",
    "    plt.plot([4.36,4.36],yl,'k:', lw=.5)\n",
    "    plt.ylim(yl)"
   ]
  },
  {
   "cell_type": "code",
   "execution_count": 7,
   "id": "3e40054d",
   "metadata": {},
   "outputs": [
    {
     "data": {
      "image/png": "[encoded data removed]",
      "text/plain": [
       "<Figure size 324x360 with 3 Axes>"
      ]
     },
     "metadata": {
      "needs_background": "light"
     },
     "output_type": "display_data"
    }
   ],
   "source": [
    "fig = plt.figure(figsize=(4.5,5))\n",
    "ax = fig.add_axes([0,0.6,1,0.3])\n",
    "plot_hist(alpha_obs, color='silver')\n",
    "plt.text(1.1, plt.ylim()[1]*0.9, 'Observation', ha='left', va='top')\n",
    "plt.text(2, plt.ylim()[1]*1.05, 'optically thick and isothermal', ha='center')\n",
    "plt.text(4.36, plt.ylim()[1]*1.05, 'optically thin', ha='center')\n",
    "ax = fig.add_axes([0,0.3,1,0.3])\n",
    "plot_hist(alpha_fid, color='tab:blue')\n",
    "plt.text(1.1, plt.ylim()[1]*0.9, 'Fiducial model (fit with 0.87 mm $+$ 9 mm images)', ha='left', va='top')\n",
    "ax = fig.add_axes([0,0.0,1,0.3])\n",
    "plot_hist(alpha_alma, leave_tick_labels=True, color='tab:orange')\n",
    "plt.text(1.1, plt.ylim()[1]*0.9, 'Fit with 0.87 mm image only', ha='left', va='top')\n",
    "plt.xlabel('Spectral index between 0.87 mm and 9 mm')\n",
    "plt.savefig('../figures/spectral_index.pdf',bbox_inches='tight')"
   ]
  },
  {
   "cell_type": "code",
   "execution_count": 8,
   "id": "4e1ba481",
   "metadata": {},
   "outputs": [
    {
     "data": {
      "image/png": "[encoded data removed]",
      "text/plain": [
       "<Figure size 324x480 with 4 Axes>"
      ]
     },
     "metadata": {
      "needs_background": "light"
     },
     "output_type": "display_data"
    }
   ],
   "source": [
    "fig = plt.figure(figsize=(4.5,5*4/3))\n",
    "h = 0.3*3/4\n",
    "\n",
    "N = 3\n",
    "import matplotlib\n",
    "colors = matplotlib.cm.get_cmap('viridis')((np.arange(N)+0.5)/N)\n",
    "\n",
    "ax = fig.add_axes([0,h*3,1,h])\n",
    "plot_hist(alpha_obs, color='silver')\n",
    "plt.text(1.1, plt.ylim()[1]*0.9, 'Observation', ha='left', va='top')\n",
    "plt.text(2, plt.ylim()[1]*1.05, 'optically thick and isothermal', ha='center')\n",
    "plt.text(4.36, plt.ylim()[1]*1.05, 'optically thin', ha='center')\n",
    "\n",
    "ax = fig.add_axes([0,h*2,1,h])\n",
    "plot_hist(alpha_fid, color='tab:blue')#colors[0])\n",
    "plt.text(1.1, plt.ylim()[1]*0.9, 'Fiducial model ($Q=1.5$)', ha='left', va='top')\n",
    "\n",
    "ax = fig.add_axes([0,h,1,h])\n",
    "plot_hist(alpha_Q10, leave_tick_labels=True, color=colors[1])\n",
    "plt.text(1.1, plt.ylim()[1]*0.9, '$Q=10$', ha='left', va='top')\n",
    "\n",
    "ax = fig.add_axes([0,0,1,h])\n",
    "plot_hist(alpha_Q100, leave_tick_labels=True, color=colors[2])\n",
    "plt.text(1.1, plt.ylim()[1]*0.9, '$Q=100$', ha='left', va='top')\n",
    "\n",
    "plt.xlabel('Spectral index between 0.87 mm and 9 mm')\n",
    "plt.savefig('../figures/spectral_index_Q.pdf',bbox_inches='tight')"
   ]
  },
  {
   "cell_type": "code",
   "execution_count": null,
   "id": "d0bcfab2",
   "metadata": {},
   "outputs": [],
   "source": []
  }
 ],
 "metadata": {
  "kernelspec": {
   "display_name": "Python 3",
   "language": "python",
   "name": "python3"
  },
  "language_info": {
   "codemirror_mode": {
    "name": "ipython",
    "version": 3
   },
   "file_extension": ".py",
   "mimetype": "text/x-python",
   "name": "python",
   "nbconvert_exporter": "python",
   "pygments_lexer": "ipython3",
   "version": "3.8.8"
  }
 },
 "nbformat": 4,
 "nbformat_minor": 5
}
