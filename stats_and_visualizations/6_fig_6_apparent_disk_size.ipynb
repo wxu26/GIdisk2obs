{
 "cells": [
  {
   "cell_type": "code",
   "execution_count": 1,
   "id": "fa9c46f2",
   "metadata": {},
   "outputs": [],
   "source": [
    "import numpy as np\n",
    "import matplotlib.pyplot as plt\n",
    "import pickle\n",
    "from fig_style import *\n",
    "\n",
    "import sys\n",
    "sys.path.insert(0,'../')\n",
    "from disk_model import DiskFitting, DiskImage\n",
    "\n",
    "import astropy.constants as const\n",
    "au = const.au.cgs.value"
   ]
  },
  {
   "cell_type": "code",
   "execution_count": 2,
   "id": "24a9ec15",
   "metadata": {},
   "outputs": [],
   "source": [
    "with open(\"../data/fitted_systems/fit_1mm_Q1d5_age1e5.pkl\",\"rb\") as f:\n",
    "    Ds = pickle.load(f)"
   ]
  },
  {
   "cell_type": "code",
   "execution_count": 3,
   "id": "3e4a6c8f",
   "metadata": {},
   "outputs": [],
   "source": [
    "import astropy\n",
    "data_all = astropy.table.Table.read(\"../data/VANDAM_T20_properties.txt\", format=\"ascii\")\n",
    "data_all.add_index('Source')"
   ]
  },
  {
   "cell_type": "code",
   "execution_count": 4,
   "id": "b90e3daa",
   "metadata": {},
   "outputs": [],
   "source": [
    "import scipy\n",
    "def fit_gaussian(D, i_obs=0):\n",
    "    I = D.disk_image_list[i_obs]\n",
    "    I.generate_mock_observation(R=D.disk_model.R, I=D.disk_model.I_obs[i_obs], cosI=D.cosI)\n",
    "    img_model = I.img_model.copy()\n",
    "    def generate_gaussian_image(x):\n",
    "        A, sigma, cosI = x\n",
    "        R = np.linspace(0,5*sigma,100)\n",
    "        Rc = (R[1:]+R[:-1])/2\n",
    "        IR = A*np.exp(-(Rc/sigma)**2/2)\n",
    "        I.generate_mock_observation(R=R, I=IR, cosI=cosI)\n",
    "        return I.img_model\n",
    "    A0 = np.amax(img_model)/(1e23*I.beam_area)\n",
    "    i = data_all.loc_indices[D.source_name]\n",
    "    if i_obs == 0:\n",
    "        sigma0 = data_all[i]['RdiskA']/2\n",
    "    else:\n",
    "        sigma0 = data_all[i]['RdiskV']/2\n",
    "    if np.ma.is_masked(sigma0):\n",
    "        sigma0 = np.sqrt(np.sum(img_model)/(1e23*I.beam_area)/A0) * I.au_per_pix\n",
    "    x0 = np.array([A0, sigma0*au, D.cosI])\n",
    "    ig0 = generate_gaussian_image(x0)\n",
    "    def compare_img(x_rel):\n",
    "        img_gaussian = generate_gaussian_image(x_rel*x0)\n",
    "        return np.sum((img_gaussian-img_model)**2)/np.sum(img_model**2)\n",
    "    #return generate_gaussian_image(x0)\n",
    "    res = scipy.optimize.minimize(compare_img, x0=[1,1,1])\n",
    "    return res, generate_gaussian_image(res.x*x0), img_model, (res.x*x0)"
   ]
  },
  {
   "cell_type": "code",
   "execution_count": null,
   "id": "2ffa4640",
   "metadata": {},
   "outputs": [],
   "source": [
    "sigma_a = {}\n",
    "sigma_v = {}\n",
    "for D in Ds:\n",
    "    res, i_g, i_m, x = fit_gaussian(D)\n",
    "    if x[2]>1:\n",
    "        x[1] = x[1]*x[2]\n",
    "        x[2] = 1/x[2]\n",
    "    sigma_a[D.source_name] = x[1]/au\n",
    "for D in Ds:\n",
    "    res, i_g, i_m, x = fit_gaussian(D, 1)\n",
    "    if x[2]>1:\n",
    "        x[1] = x[1]*x[2]\n",
    "        x[2] = 1/x[2]\n",
    "    sigma_v[D.source_name] = x[1]/au"
   ]
  },
  {
   "cell_type": "code",
   "execution_count": null,
   "id": "2af8347a",
   "metadata": {},
   "outputs": [],
   "source": [
    "sigma_a_T20 = {}\n",
    "sigma_v_T20 = {}\n",
    "sigma_a_T20_lower = {}\n",
    "sigma_v_T20_lower = {}\n",
    "for D in Ds:\n",
    "    i = data_all.loc_indices[D.source_name]\n",
    "    sigma_a_T20[D.source_name] = data_all[i]['RdiskA']/2\n",
    "    sigma_v_T20[D.source_name] = data_all[i]['RdiskV']/2\n",
    "    Rlower = 1 if np.ma.is_masked(data_all[i]['RdiskA']) else np.nan\n",
    "    sigma_a_T20_lower[D.source_name] = Rlower\n",
    "    Rlower = 1 if np.ma.is_masked(data_all[i]['RdiskV']) else np.nan\n",
    "    sigma_v_T20_lower[D.source_name] = Rlower"
   ]
  },
  {
   "cell_type": "markdown",
   "id": "45d2c70c",
   "metadata": {},
   "source": [
    "# Compare apparant disk size"
   ]
  },
  {
   "cell_type": "code",
   "execution_count": null,
   "id": "8baa809f",
   "metadata": {},
   "outputs": [],
   "source": [
    "plt.figure(figsize=(4.5,4.5))\n",
    "plt.plot([1,500],[1,500],'k:',label='_nolegend_', zorder=-100)\n",
    "\n",
    "x,y,yl = [],[],[]\n",
    "for D in Ds:\n",
    "    x.append(sigma_a[D.source_name]*2)\n",
    "    y.append(sigma_a_T20[D.source_name]*2)\n",
    "    yl.append(sigma_a_T20_lower[D.source_name]*6)\n",
    "\n",
    "alpha, s = 1, 15\n",
    "plt.scatter(y,x, facecolors='tab:blue', edgecolors='None', alpha=alpha, s=s)\n",
    "plt.scatter(yl,x, facecolors='tab:blue', edgecolors='None', alpha=alpha, s=s, marker='<',label='_nolegend_')\n",
    "    \n",
    "x,y,yl = [],[],[]\n",
    "for D in Ds:\n",
    "    x.append(sigma_v[D.source_name]*2)\n",
    "    y.append(sigma_v_T20[D.source_name]*2)\n",
    "    yl.append(sigma_v_T20_lower[D.source_name]*6)\n",
    "alpha, s = 1, 12\n",
    "plt.scatter(y,x, facecolors='None', edgecolors='tab:orange', alpha=alpha, s=s)\n",
    "plt.scatter(yl,x, facecolors='None', edgecolors='tab:orange', alpha=alpha, s=s, marker='<',label='_nolegend_')\n",
    "\n",
    "plt.xscale('log')\n",
    "plt.yscale('log')\n",
    "plt.gca().set_aspect('equal','box')\n",
    "plt.xlim(5,300)\n",
    "plt.ylim(5,300)\n",
    "\n",
    "plt.legend(['0.87 mm (ALMA)','9 mm (VLA)'],frameon=False,loc=2)\n",
    "\n",
    "set_ticks()\n",
    "\n",
    "plt.xlabel(r'$R_{\\rm 2\\sigma}$ from observation [au]')\n",
    "plt.ylabel(r'$R_{\\rm 2\\sigma}$ from our model [au]')\n",
    "\n",
    "#plt.savefig('../figures/R2sigma_comp.pdf',bbox_inches='tight')"
   ]
  },
  {
   "cell_type": "markdown",
   "id": "40a9ea37",
   "metadata": {},
   "source": [
    "# For the subsample with chi^2<1 (not in paper)"
   ]
  },
  {
   "cell_type": "code",
   "execution_count": null,
   "id": "f6adcd67",
   "metadata": {},
   "outputs": [],
   "source": [
    "from get_chi_sq import get_mean_chisq_mult\n",
    "chi_sq = get_mean_chisq_mult(Ds)"
   ]
  },
  {
   "cell_type": "code",
   "execution_count": null,
   "id": "b994a4cf",
   "metadata": {},
   "outputs": [],
   "source": [
    "low_chi_sq = (chi_sq<=1)"
   ]
  },
  {
   "cell_type": "code",
   "execution_count": null,
   "id": "90aa5a76",
   "metadata": {},
   "outputs": [],
   "source": [
    "plt.figure(figsize=(4.5,4.5))\n",
    "plt.plot([1,500],[1,500],'k:',label='_nolegend_', zorder=-100)\n",
    "\n",
    "x,y,yl = [],[],[]\n",
    "for D in np.array(Ds)[low_chi_sq]:\n",
    "    x.append(sigma_a[D.source_name]*2)\n",
    "    y.append(sigma_a_T20[D.source_name]*2)\n",
    "    yl.append(sigma_a_T20_lower[D.source_name]*6)\n",
    "\n",
    "alpha, s = 1, 15\n",
    "plt.scatter(y,x, facecolors='tab:blue', edgecolors='None', alpha=alpha, s=s)\n",
    "plt.scatter(yl,x, facecolors='tab:blue', edgecolors='None', alpha=alpha, s=s, marker='<',label='_nolegend_')\n",
    "    \n",
    "x,y,yl = [],[],[]\n",
    "for D in np.array(Ds)[low_chi_sq]:\n",
    "    x.append(sigma_v[D.source_name]*2)\n",
    "    y.append(sigma_v_T20[D.source_name]*2)\n",
    "    yl.append(sigma_v_T20_lower[D.source_name]*6)\n",
    "alpha, s = 1, 12\n",
    "plt.scatter(y,x, facecolors='None', edgecolors='tab:orange', alpha=alpha, s=s)\n",
    "plt.scatter(yl,x, facecolors='None', edgecolors='tab:orange', alpha=alpha, s=s, marker='<',label='_nolegend_')\n",
    "\n",
    "plt.xscale('log')\n",
    "plt.yscale('log')\n",
    "plt.gca().set_aspect('equal','box')\n",
    "plt.xlim(5,300)\n",
    "plt.ylim(5,300)\n",
    "\n",
    "plt.legend(['0.87 mm (ALMA)','9 mm (VLA)'],frameon=False,loc=2)\n",
    "\n",
    "set_ticks()\n",
    "\n",
    "plt.xlabel(r'$R_{\\rm 2\\sigma}$ from observation [au]')\n",
    "plt.ylabel(r'$R_{\\rm 2\\sigma}$ from our model [au]')\n",
    "\n",
    "#plt.savefig('../figures/R2sigma_comp.pdf',bbox_inches='tight')"
   ]
  },
  {
   "cell_type": "code",
   "execution_count": null,
   "id": "5d5c70af",
   "metadata": {},
   "outputs": [],
   "source": []
  }
 ],
 "metadata": {
  "kernelspec": {
   "display_name": "Python 3 (ipykernel)",
   "language": "python",
   "name": "python3"
  },
  "language_info": {
   "codemirror_mode": {
    "name": "ipython",
    "version": 3
   },
   "file_extension": ".py",
   "mimetype": "text/x-python",
   "name": "python",
   "nbconvert_exporter": "python",
   "pygments_lexer": "ipython3",
   "version": "3.9.7"
  }
 },
 "nbformat": 4,
 "nbformat_minor": 5
}
