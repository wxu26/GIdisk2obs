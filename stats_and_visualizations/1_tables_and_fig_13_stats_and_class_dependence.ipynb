{
 "cells": [
  {
   "cell_type": "code",
   "execution_count": 1,
   "id": "fd4a5658",
   "metadata": {},
   "outputs": [],
   "source": [
    "import numpy as np\n",
    "import matplotlib.pyplot as plt\n",
    "import pickle\n",
    "from fig_style import *\n",
    "\n",
    "import sys\n",
    "sys.path.insert(0,'../')\n",
    "from disk_model import DiskFitting\n",
    "\n",
    "import astropy.constants as const\n",
    "au = const.au.cgs.value\n",
    "Msun = const.M_sun.cgs.value\n",
    "Mearth = const.M_earth.cgs.value\n",
    "c_light = const.c.cgs.value"
   ]
  },
  {
   "cell_type": "code",
   "execution_count": 2,
   "id": "2e10e22e",
   "metadata": {},
   "outputs": [],
   "source": [
    "with open('../data/fitted_systems/fit_1mm_Q1d5_age1e5.pkl','rb') as f:\n",
    "    Ds = np.array(pickle.load(f))\n",
    "\n",
    "import astropy.table\n",
    "data = astropy.table.Table.read(\"../data/VANDAM_T20_properties.txt\", format=\"ascii\")\n",
    "data.add_index('Source') # add index by source"
   ]
  },
  {
   "cell_type": "markdown",
   "id": "dd64be97",
   "metadata": {},
   "source": [
    "# Print number of systems in each class"
   ]
  },
  {
   "cell_type": "code",
   "execution_count": 3,
   "id": "631b273b",
   "metadata": {},
   "outputs": [],
   "source": [
    "def get_class(D):\n",
    "    i = data.loc_indices[D.source_name]\n",
    "    if data['Class'][i]=='0':\n",
    "        return 0\n",
    "    if data['Class'][i]=='I':\n",
    "        return 1\n",
    "    if data['Class'][i]=='Flat':\n",
    "        return 1.5\n",
    "    if data['Class'][i]=='None':\n",
    "        return -1\n",
    "    else:\n",
    "        raise ValueError('unknown class!')"
   ]
  },
  {
   "cell_type": "code",
   "execution_count": 4,
   "id": "a3b70add",
   "metadata": {},
   "outputs": [],
   "source": [
    "cl = np.array([get_class(D) for D in Ds])"
   ]
  },
  {
   "cell_type": "code",
   "execution_count": 5,
   "id": "9720ce90",
   "metadata": {},
   "outputs": [
    {
     "name": "stdout",
     "output_type": "stream",
     "text": [
      "total: 163\n",
      "Class 0: 98\n",
      "Class I: 40\n",
      "Flat: 21\n",
      "unclassified: 4\n"
     ]
    }
   ],
   "source": [
    "print('total:',len(cl))\n",
    "print('Class 0:',np.sum(cl==0))\n",
    "print('Class I:',np.sum(cl==1))\n",
    "print('Flat:',np.sum(cl==1.5))\n",
    "print('unclassified:',np.sum(cl==-1))"
   ]
  },
  {
   "cell_type": "markdown",
   "id": "8a5eae5e",
   "metadata": {},
   "source": [
    "# Disk property summary (Table 2)"
   ]
  },
  {
   "cell_type": "code",
   "execution_count": 6,
   "id": "ab60c228",
   "metadata": {},
   "outputs": [],
   "source": [
    "def get_temperatures(D, i_obs=0, N_tau=50, tau_min=0.01,):\n",
    "    # D: disk model\n",
    "    lam_obs = D.lam_obs_list[i_obs]\n",
    "    f_kappa_obs = D.f_kappa_obs_list[i_obs]\n",
    "    f_kappa_s_obs = D.f_kappa_s_obs_list[i_obs]\n",
    "    nu = c_light/lam_obs\n",
    "    # construct tau grid\n",
    "    tau_max = D.tau_r_mid*2\n",
    "    tau_min = np.minimum(tau_max/N_tau,tau_min)\n",
    "    tau_grid = np.logspace(np.log10(tau_min), np.log10(tau_max/2), N_tau) # first dimension: tau, second dimension: r\n",
    "    tau_grid = np.concatenate((tau_grid, tau_max - tau_grid[-2::-1], [tau_max]), axis=0)\n",
    "    dtau_grid = tau_grid*1\n",
    "    dtau_grid[1:] = dtau_grid[1:]-dtau_grid[:-1]\n",
    "    tau_p = D.tau_p_mid*2\n",
    "    tau_r = D.tau_r_mid*2\n",
    "    # get temperature profile\n",
    "    T_4_over_T_mid_4 = (tau_grid*(1-tau_grid/tau_r) + 1/np.sqrt(3) + 1/(1.5*tau_p))/\\\n",
    "                       (0.25*tau_r + 1/np.sqrt(3) + 1/(1.5*tau_p))\n",
    "    T_grid = T_4_over_T_mid_4**(1/4) * D.T_mid\n",
    "    # get tau_obs\n",
    "    kappa_R = D.get_kappa_r(T_grid)\n",
    "    kappa = f_kappa_obs(T_grid)\n",
    "    kappa_s = f_kappa_s_obs(T_grid)\n",
    "    omega = kappa_s/(kappa+kappa_s+1e-80)\n",
    "    dSigma = dtau_grid/kappa_R\n",
    "    dtau_a = dtau_grid * kappa/kappa_R\n",
    "    dtau_eff = dtau_grid * (kappa+kappa_s)*np.sqrt(1-omega)/kappa_R\n",
    "    tau_eff = np.cumsum(dtau_eff, axis=0)\n",
    "    tau_eff_top = tau_eff - dtau_eff\n",
    "    # both less than 1: 1\n",
    "    # one is less than 1: 1-\n",
    "    wght = (np.minimum(1, tau_eff) - np.minimum(1, tau_eff_top))/(dtau_eff+1e-80)\n",
    "    dS = np.pi*(D.R[1:]**2-D.R[:-1]**2)\n",
    "    T_vis_mean = np.sum(T_grid*dS*wght*dtau_a)/np.sum(dS*wght*dtau_a)\n",
    "    T_vis = np.sum(T_grid*wght*dtau_a, axis=0)/np.sum(wght*dtau_a, axis=0)\n",
    "    T_mean = np.sum(T_grid*dSigma*dS)/np.sum(dSigma*dS)\n",
    "    T_vis_mean_mass_avg = np.sum(T_grid*dSigma*wght*dS)/np.sum(dSigma*wght*dS)\n",
    "    M_vis = np.sum(dSigma*wght*dS)\n",
    "    #plt.plot(D.R[1:], T_vis)\n",
    "    #plt.plot(D.R[1:], D.T_mid)\n",
    "    #plt.xscale('log')\n",
    "    #plt.yscale('log')\n",
    "    #plt.ylim(1,2e3)\n",
    "    return T_vis_mean, T_vis_mean_mass_avg, T_mean, M_vis/Msun"
   ]
  },
  {
   "cell_type": "code",
   "execution_count": 18,
   "id": "35678b09",
   "metadata": {},
   "outputs": [],
   "source": [
    "def get_stats(Ds, output_for_table=False, head=''):\n",
    "    Md = np.array([(D.disk_model.M-D.disk_model.Mstar)/Msun for D in Ds])\n",
    "    Rd = np.array([D.disk_model.Rd/au for D in Ds])\n",
    "    T_mean = np.array([ get_temperatures(D.disk_model, 0)[2] for D in Ds])\n",
    "    Mvis1 = np.array([ get_temperatures(D.disk_model, 0)[3] for D in Ds])\n",
    "    Mvis2 = np.array([ get_temperatures(D.disk_model, 1)[3] for D in Ds])\n",
    "    Tvis1 = np.array([ get_temperatures(D.disk_model, 0)[1] for D in Ds])\n",
    "    Tvis2 = np.array([ get_temperatures(D.disk_model, 1)[1] for D in Ds])\n",
    "    if output_for_table:\n",
    "        s = head + '  '\n",
    "        s += '& {:.2f} & {:.2f} & {:.2f} & {:.2f} '.format(np.mean(Md), np.percentile(Md, 25), np.median(Md) ,np.percentile(Md, 75))\n",
    "        s += '& {:.1f} & {:.1f} & {:.1f} '.format(np.percentile(Rd, 25), np.median(Rd) ,np.percentile(Rd, 75))\n",
    "        s += '& {:.1f} & {:.1f} & {:.1f} '.format(np.percentile(T_mean, 25), np.median(T_mean) ,np.percentile(T_mean, 75))\n",
    "        s += '& {:.3f} & {:.1f} & {:.3f} & {:.1f} '.format(np.median(Mvis1), np.median(Tvis1), np.median(Mvis2), np.median(Tvis2))\n",
    "        s += r'\\\\'\n",
    "        print(s)\n",
    "    else:\n",
    "        print('Md (mean, 25%, median, 75%): {:.2f}, {:.2f}, {:.2f}, {:.2f}'.format(np.mean(Md), np.percentile(Md, 25), np.median(Md) ,np.percentile(Md, 75)))\n",
    "        print('Rd (25%, median, 75%): {:.2f}, {:.2f}, {:.2f}'.format(np.percentile(Rd, 25), np.median(Rd) ,np.percentile(Rd, 75)))\n",
    "        print('T_mean (25%, median, 75%): {:.2f}, {:.2f}, {:.2f}'.format(np.percentile(T_mean, 25), np.median(T_mean) ,np.percentile(T_mean, 75)))\n",
    "    return Md, Rd, T_mean\n",
    "\n",
    "def get_stats_T20(Ds, output_for_table=False, head=''):\n",
    "    Md = np.array([\n",
    "        data['MdiskA'][data.loc_indices[D.source_name]]*Mearth*100/Msun\n",
    "        for D in Ds\n",
    "    ])\n",
    "    Rd = np.array([\n",
    "        data['RdiskA'][data.loc_indices[D.source_name]]\n",
    "        for D in Ds\n",
    "    ])\n",
    "    T_mean = np.array([\n",
    "        43*data['Lbol'][data.loc_indices[D.source_name]]**0.25\n",
    "        for D in Ds\n",
    "    ])\n",
    "    T_mean[np.isnan(T_mean)] = 43 # default value when Lbol is missing\n",
    "    if output_for_table:\n",
    "        s = head + '  '\n",
    "        s += '& {:.3f} & {:.3f} & {:.3f} & {:.3f} '.format(np.mean(Md), np.percentile(Md, 25), np.median(Md) ,np.percentile(Md, 75))\n",
    "        s += '& {:.1f} & {:.1f} & {:.1f} '.format(np.percentile(Rd, 25), np.median(Rd) ,np.percentile(Rd, 75))\n",
    "        s += '& {:.1f} & {:.1f} & {:.1f} '.format(np.percentile(T_mean, 25), np.median(T_mean) ,np.percentile(T_mean, 75))\n",
    "        s += '& & & & '\n",
    "        s += r'\\\\'\n",
    "        print(s)\n",
    "    else:\n",
    "        print('Md (mean, 25%, median, 75%): {:.2f}, {:.2f}, {:.2f}, {:.2f}'.format(np.mean(Md), np.percentile(Md, 25), np.median(Md) ,np.percentile(Md, 75)))\n",
    "        print('Rd (25%, median, 75%): {:.2f}, {:.2f}, {:.2f}'.format(np.percentile(Rd, 25), np.median(Rd) ,np.percentile(Rd, 75)))\n",
    "        print('T_mean (25%, median, 75%): {:.2f}, {:.2f}, {:.2f}'.format(np.percentile(T_mean, 25), np.median(T_mean) ,np.percentile(T_mean, 75)))\n",
    "    return Md, Rd, T_mean"
   ]
  },
  {
   "cell_type": "code",
   "execution_count": 6,
   "id": "df5c8a70",
   "metadata": {},
   "outputs": [
    {
     "name": "stdout",
     "output_type": "stream",
     "text": [
      "126\n"
     ]
    }
   ],
   "source": [
    "# select the subsample with chi^2 <= 2\n",
    "from get_chi_sq import get_mean_chisq_mult\n",
    "chi_sq = get_mean_chisq_mult(Ds)\n",
    "Ds_low_chi = Ds[chi_sq<=2]\n",
    "print(len(Ds_low_chi))\n",
    "\n",
    "cl_low_chi = np.array([get_class(D) for D in Ds_low_chi])"
   ]
  },
  {
   "cell_type": "code",
   "execution_count": 19,
   "id": "0cbd6ddb",
   "metadata": {},
   "outputs": [
    {
     "name": "stdout",
     "output_type": "stream",
     "text": [
      "All  & 0.68 & 0.23 & 0.52 & 0.85 & 45.3 & 77.7 & 144.4 & 228.0 & 272.4 & 311.6 & 0.028 & 24.7 & 0.319 & 126.6 \\\\\n",
      "Class 0  & 0.72 & 0.26 & 0.62 & 0.93 & 48.8 & 92.8 & 174.1 & 221.4 & 268.7 & 299.8 & 0.040 & 21.9 & 0.364 & 117.7 \\\\\n",
      "Class I  & 0.73 & 0.30 & 0.45 & 0.87 & 36.7 & 54.4 & 119.1 & 268.1 & 305.5 & 331.4 & 0.012 & 38.2 & 0.260 & 150.1 \\\\\n",
      "Flat Spectrum  & 0.39 & 0.17 & 0.24 & 0.40 & 44.0 & 54.6 & 78.9 & 238.6 & 253.3 & 265.7 & 0.014 & 18.2 & 0.146 & 103.2 \\\\\n",
      "T20  & 0.024 & 0.005 & 0.013 & 0.031 & 32.5 & 51.8 & 82.9 & 44.0 & 58.0 & 71.9 & & & & \\\\\n"
     ]
    },
    {
     "name": "stderr",
     "output_type": "stream",
     "text": [
      "/tmp/ipykernel_2122048/1930571333.py:32: UserWarning: Warning: converting a masked element to nan.\n",
      "  T_mean = np.array([\n"
     ]
    }
   ],
   "source": [
    "# table 2 with a few additional columns\n",
    "# table content:\n",
    "# disk mass: mean, 25%, median, 75%\n",
    "# disk size: 25%, median, 75%\n",
    "# mean temperature: 25%, median, 75%\n",
    "# visible mass at 0.87 mm\n",
    "# mean temperature of visible mass at 0.87 mm\n",
    "# visible mass at 9 mm\n",
    "# mean temperature of visible mass at 9 mm\n",
    "data_all=get_stats(Ds_low_chi, output_for_table=True, head='All')\n",
    "data_0=get_stats(Ds_low_chi[cl_low_chi==0], output_for_table=True, head='Class 0')\n",
    "data_I=get_stats(Ds_low_chi[cl_low_chi==1], output_for_table=True, head='Class I')\n",
    "data_Flat=get_stats(Ds_low_chi[cl_low_chi==1.5], output_for_table=True, head='Flat Spectrum')\n",
    "_=get_stats_T20(Ds_low_chi, output_for_table=True, head='T20')"
   ]
  },
  {
   "cell_type": "markdown",
   "id": "f0e3afbe",
   "metadata": {},
   "source": [
    "# Class dependence plots"
   ]
  },
  {
   "cell_type": "code",
   "execution_count": 20,
   "id": "9029004b",
   "metadata": {},
   "outputs": [],
   "source": [
    "def plot_cumulative_dist(x, **kwargs):\n",
    "    N = len(x)\n",
    "    x = np.concatenate(([0],np.sort(x)))\n",
    "    y = 1-np.arange(N+1)/(N)\n",
    "    p,=plt.plot(x,y,**kwargs)\n",
    "    return p"
   ]
  },
  {
   "cell_type": "code",
   "execution_count": 21,
   "id": "fe2a20c4",
   "metadata": {},
   "outputs": [],
   "source": [
    "import matplotlib\n",
    "N = 3\n",
    "colors = matplotlib.cm.get_cmap('plasma')((np.arange(N)+0.5)/N)[::-1]"
   ]
  },
  {
   "cell_type": "code",
   "execution_count": 22,
   "id": "b84400e4",
   "metadata": {},
   "outputs": [
    {
     "data": {
      "image/png": "[encoded data removed]",
      "text/plain": [
       "<Figure size 324x216 with 1 Axes>"
      ]
     },
     "metadata": {
      "needs_background": "light"
     },
     "output_type": "display_data"
    }
   ],
   "source": [
    "plt.figure(figsize=(4.5,3))\n",
    "p4=plot_cumulative_dist(data_all[1], color='tab:grey')\n",
    "p3=plot_cumulative_dist(data_Flat[1], color=colors[2])\n",
    "p2=plot_cumulative_dist(data_I[1], color=colors[1])\n",
    "p1=plot_cumulative_dist(data_0[1], color=colors[0])\n",
    "plt.legend([p1,p2,p3,p4],['Class 0','Class I','Flat Spectrum','all systems'], frameon=False)\n",
    "plt.xlim(5,500); plt.xscale('log'); plt.xlabel(r'$R_{\\rm d}$ [au]')\n",
    "plt.ylim(0,1); plt.ylabel(r'Fraction with $\\geq R_{\\rm d}$')\n",
    "set_ticks()\n",
    "plt.tight_layout()\n",
    "#plt.savefig('../figures/class_Rd.pdf',bbox_inches='tight')"
   ]
  },
  {
   "cell_type": "code",
   "execution_count": 23,
   "id": "4c44b3a4",
   "metadata": {},
   "outputs": [
    {
     "data": {
      "image/png": "[encoded data removed]",
      "text/plain": [
       "<Figure size 324x216 with 1 Axes>"
      ]
     },
     "metadata": {
      "needs_background": "light"
     },
     "output_type": "display_data"
    }
   ],
   "source": [
    "plt.figure(figsize=(4.5,3))\n",
    "p4=plot_cumulative_dist(data_all[0], color='tab:grey')\n",
    "p3=plot_cumulative_dist(data_Flat[0], color=colors[2])\n",
    "p2=plot_cumulative_dist(data_I[0], color=colors[1])\n",
    "p1=plot_cumulative_dist(data_0[0], color=colors[0])\n",
    "plt.legend([p1,p2,p3,p4],['Class 0','Class I','Flat Spectrum','all systems'], frameon=False)\n",
    "plt.xlim(7e-2,7); plt.xscale('log'); plt.xlabel(r'$M_{\\rm d}$ [M$_\\odot$]');\n",
    "plt.ylim(0,1); plt.ylabel(r'Fraction with $\\geq M_{\\rm d}$')\n",
    "set_ticks()\n",
    "plt.tight_layout()\n",
    "#plt.savefig('../figures/class_Md.pdf',bbox_inches='tight')"
   ]
  },
  {
   "cell_type": "markdown",
   "id": "f26420bd",
   "metadata": {},
   "source": [
    "# Sensitvity to model parameters"
   ]
  },
  {
   "cell_type": "code",
   "execution_count": 31,
   "id": "827c613c",
   "metadata": {},
   "outputs": [],
   "source": [
    "def get_data_one(D):\n",
    "    DM = D.disk_model\n",
    "    Md_over_Mstar = (DM.M-DM.Mstar)/DM.Mstar\n",
    "    T_mean = get_temperatures(D.disk_model, 0)[2]\n",
    "    return [DM.Rd/au, (DM.M-DM.Mstar)/Msun, DM.Mstar/Msun, Md_over_Mstar, T_mean]\n",
    "def get_data(Ds):\n",
    "    d = [get_data_one(D) for D in Ds[chi_sq<=2]]\n",
    "    return np.array(d)\n",
    "def get_parameter_sensitivity(D1, D2, dlogx, s0=''):\n",
    "    d1 = get_data(D1)\n",
    "    d2 = get_data(D2)\n",
    "    dlogy_mean = np.mean(np.log(d2)-np.log(d1), axis=0)/dlogx\n",
    "    dlogy_std = np.std(np.log(d2)-np.log(d1), axis=0)/dlogx\n",
    "    dlogy_rms = np.sqrt(np.mean((np.log(d2)-np.log(d1))**2, axis=0))/dlogx\n",
    "    y_names = ['Rd','Md','Mstar','Md/Mstar','Tmean']\n",
    "    s = s0\n",
    "    for i in range(len(dlogy_mean)):\n",
    "        #print(y_names[i]+' {:+.2f}$\\pm${:.2f}'.format(dlogy_mean[i],dlogy_std[i]))\n",
    "        s += '& ${:+.2f}\\pm{:.2f}$ '.format(dlogy_mean[i],dlogy_std[i])\n",
    "    s += r'\\\\'\n",
    "    print(s)\n",
    "    return dlogy_rms"
   ]
  },
  {
   "cell_type": "code",
   "execution_count": 32,
   "id": "53cb7bab",
   "metadata": {},
   "outputs": [],
   "source": [
    "with open('../data/fitted_systems/fit_1mm_Q1d5_age1e5.pkl','rb') as f:\n",
    "    Ds = np.array(pickle.load(f))\n",
    "with open('../data/fitted_systems/fit_1mm_Q1_age1e5.pkl','rb') as f:\n",
    "    Ds_Q1 = np.array(pickle.load(f))\n",
    "with open('../data/fitted_systems/fit_1mm_Q2_age1e5.pkl','rb') as f:\n",
    "    Ds_Q2 = np.array(pickle.load(f))\n",
    "with open('../data/fitted_systems/fit_1cm_Q1d5_age1e5.pkl','rb') as f:\n",
    "    Ds_1cm = np.array(pickle.load(f))\n",
    "with open('../data/fitted_systems/fit_100um_Q1d5_age1e5.pkl','rb') as f:\n",
    "    Ds_100um = np.array(pickle.load(f))\n",
    "with open('../data/fitted_systems/fit_1mm_Q1d5_age5e4.pkl','rb') as f:\n",
    "    Ds_Mdot_double = np.array(pickle.load(f))\n",
    "with open('../data/fitted_systems/fit_1mm_Q1d5_age2e5.pkl','rb') as f:\n",
    "    Ds_Mdot_half = np.array(pickle.load(f))"
   ]
  },
  {
   "cell_type": "code",
   "execution_count": 33,
   "id": "5acfab7f",
   "metadata": {},
   "outputs": [
    {
     "name": "stdout",
     "output_type": "stream",
     "text": [
      "$a_{\\rm max}$& $+0.03\\pm0.10$ & $+0.01\\pm0.05$ & $+0.04\\pm0.13$ & $-0.03\\pm0.11$ & $-0.04\\pm0.05$ \\\\\n",
      "$\\dot M/M_\\star$& $-0.03\\pm0.13$ & $-0.16\\pm0.06$ & $-0.45\\pm0.20$ & $+0.30\\pm0.22$ & $-0.01\\pm0.08$ \\\\\n",
      "$Q$& $-0.24\\pm0.39$ & $-0.96\\pm0.18$ & $+1.04\\pm0.52$ & $-2.01\\pm0.51$ & $+0.18\\pm0.20$ \\\\\n"
     ]
    }
   ],
   "source": [
    "# table 3\n",
    "dlogy_rms_a = get_parameter_sensitivity(Ds_100um, Ds_1cm, np.log(100), r'$a_{\\rm max}$')\n",
    "dlogy_rms_Mdot = get_parameter_sensitivity(Ds_Mdot_half, Ds_Mdot_double, np.log(4), r'$\\dot M/M_\\star$')\n",
    "dlogy_rms_Q = get_parameter_sensitivity(Ds_Q1, Ds_Q2, np.log(2), r'$Q$')"
   ]
  },
  {
   "cell_type": "code",
   "execution_count": 34,
   "id": "8adbe080",
   "metadata": {},
   "outputs": [],
   "source": [
    "dlogx_est_a = np.log(10)\n",
    "dlogx_est_Mdot = np.log(10)\n",
    "dlogx_est_Q = np.log(2)/2\n",
    "dlogy = np.sqrt( dlogy_rms_a**2   * dlogx_est_a**2\n",
    "                +dlogy_rms_Mdot**2* dlogx_est_Mdot**2\n",
    "                +dlogy_rms_Q**2   * dlogx_est_Q**2)"
   ]
  },
  {
   "cell_type": "code",
   "execution_count": 35,
   "id": "87c52fad",
   "metadata": {},
   "outputs": [],
   "source": [
    "def print_rms(dlogy_rms, dlogx_est, s0, bold=False):\n",
    "    dlogy = dlogy_rms*dlogx_est\n",
    "    if bold: s0 = r'\\textbf{'+s0+r'}'\n",
    "    s = s0\n",
    "    for i in range(len(dlogy)):\n",
    "        if bold:\n",
    "            s += r'& \\textbf{'+'{:.2f}'.format(dlogy[i])+r'} '\n",
    "        else:\n",
    "            s += '& {:.2f} '.format(dlogy[i])\n",
    "    s += r'\\\\'\n",
    "    print(s)"
   ]
  },
  {
   "cell_type": "code",
   "execution_count": 36,
   "id": "752f44fc",
   "metadata": {},
   "outputs": [
    {
     "name": "stdout",
     "output_type": "stream",
     "text": [
      "$a_{\\rm max}$& 0.25 & 0.11 & 0.31 & 0.27 & 0.15 \\\\\n",
      "$\\dot M/M_\\star$& 0.31 & 0.39 & 1.15 & 0.85 & 0.19 \\\\\n",
      "$Q$& 0.16 & 0.34 & 0.40 & 0.72 & 0.09 \\\\\n",
      "\\textbf{Total}& \\textbf{0.43} & \\textbf{0.53} & \\textbf{1.25} & \\textbf{1.15} & \\textbf{0.26} \\\\\n"
     ]
    }
   ],
   "source": [
    "# table 4\n",
    "print_rms(dlogy_rms_a, dlogx_est_a, r'$a_{\\rm max}$')\n",
    "print_rms(dlogy_rms_Mdot, dlogx_est_Mdot, r'$\\dot M/M_\\star$')\n",
    "print_rms(dlogy_rms_Q, dlogx_est_Q, r'$Q$')\n",
    "print_rms(dlogy, 1, r'Total', True)"
   ]
  },
  {
   "cell_type": "markdown",
   "id": "be073d60",
   "metadata": {},
   "source": [
    "# Estimate covariance (for scatter plots)"
   ]
  },
  {
   "cell_type": "code",
   "execution_count": 37,
   "id": "6efb9dd5",
   "metadata": {},
   "outputs": [],
   "source": [
    "def get_cov(D1, D2, dlogx_D, dlogx_est):\n",
    "    d1 = get_data(D1)\n",
    "    d2 = get_data(D2)\n",
    "    dlogy = np.log(d2)-np.log(d1)\n",
    "    N = dlogy.shape[0]\n",
    "    covy = np.transpose(dlogy).dot(dlogy)/N/dlogx_D**2*dlogx_est**2\n",
    "    return covy"
   ]
  },
  {
   "cell_type": "code",
   "execution_count": 38,
   "id": "8b0ad9cd",
   "metadata": {},
   "outputs": [],
   "source": [
    "covy_a = get_cov(Ds_100um, Ds_1cm, np.log(100), np.log(10))\n",
    "covy_Mdot = get_cov(Ds_Mdot_half, Ds_Mdot_double, np.log(4), np.log(10))\n",
    "covy_Q = get_cov(Ds_Q1, Ds_Q2, np.log(2), np.log(2)/2)\n",
    "covy = covy_a+covy_Mdot+covy_Q"
   ]
  },
  {
   "cell_type": "code",
   "execution_count": 39,
   "id": "1c4c22e6",
   "metadata": {},
   "outputs": [
    {
     "data": {
      "text/plain": [
       "0.4305308294163217"
      ]
     },
     "execution_count": 39,
     "metadata": {},
     "output_type": "execute_result"
    }
   ],
   "source": [
    "np.sqrt(covy[0,0])"
   ]
  },
  {
   "cell_type": "code",
   "execution_count": 40,
   "id": "0fd37103",
   "metadata": {},
   "outputs": [
    {
     "name": "stdout",
     "output_type": "stream",
     "text": [
      "1.5744940391955033 0.2822320360727028 0.27173650979573905\n"
     ]
    }
   ],
   "source": [
    "# Mstar vs Mdisk\n",
    "print(covy[2,2], covy[1,1], covy[2,1])"
   ]
  },
  {
   "cell_type": "code",
   "execution_count": 41,
   "id": "fc0b3edc",
   "metadata": {},
   "outputs": [
    {
     "name": "stdout",
     "output_type": "stream",
     "text": [
      "0.1853567950779059 0.2822320360727028 0.06589718869756671\n"
     ]
    }
   ],
   "source": [
    "# Rdisk vs Mdisk\n",
    "print(covy[0,0], covy[1,1], covy[0,1])"
   ]
  },
  {
   "cell_type": "markdown",
   "id": "ee1a7261",
   "metadata": {},
   "source": [
    "# How many systems' radius estimate is only a lower limit?"
   ]
  },
  {
   "cell_type": "code",
   "execution_count": 7,
   "id": "c257c0e2",
   "metadata": {},
   "outputs": [],
   "source": [
    "def get_F_edge_over_sigma_obs(D):\n",
    "    I_edge = D.disk_model.I_obs[0][-1]\n",
    "    sigma_obs = D.disk_image_list[0].rms_Jy\n",
    "    F_edge_Jy_beam = I_edge*1e23*D.disk_image_list[0].beam_area\n",
    "    return F_edge_Jy_beam/sigma_obs\n",
    "F_over_sigma = np.array([get_F_edge_over_sigma_obs(D) for D in Ds])"
   ]
  },
  {
   "cell_type": "code",
   "execution_count": 25,
   "id": "ae68e2c7",
   "metadata": {},
   "outputs": [
    {
     "data": {
      "text/plain": [
       "25"
      ]
     },
     "execution_count": 25,
     "metadata": {},
     "output_type": "execute_result"
    }
   ],
   "source": [
    "np.sum(F_over_sigma<1.05)"
   ]
  },
  {
   "cell_type": "code",
   "execution_count": null,
   "id": "3196cd4d",
   "metadata": {},
   "outputs": [],
   "source": []
  }
 ],
 "metadata": {
  "kernelspec": {
   "display_name": "Python 3 (ipykernel)",
   "language": "python",
   "name": "python3"
  },
  "language_info": {
   "codemirror_mode": {
    "name": "ipython",
    "version": 3
   },
   "file_extension": ".py",
   "mimetype": "text/x-python",
   "name": "python",
   "nbconvert_exporter": "python",
   "pygments_lexer": "ipython3",
   "version": "3.9.7"
  }
 },
 "nbformat": 4,
 "nbformat_minor": 5
}
