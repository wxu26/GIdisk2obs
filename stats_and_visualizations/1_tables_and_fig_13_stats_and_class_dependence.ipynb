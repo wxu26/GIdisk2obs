{
 "cells": [
  {
   "cell_type": "code",
   "execution_count": 1,
   "id": "fd4a5658",
   "metadata": {},
   "outputs": [],
   "source": [
    "import numpy as np\n",
    "import matplotlib.pyplot as plt\n",
    "import pickle\n",
    "from fig_style import *\n",
    "\n",
    "import sys\n",
    "sys.path.insert(0,'../')\n",
    "from disk_model import DiskFitting\n",
    "\n",
    "import astropy.constants as const\n",
    "au = const.au.cgs.value\n",
    "Msun = const.M_sun.cgs.value\n",
    "Mearth = const.M_earth.cgs.value"
   ]
  },
  {
   "cell_type": "code",
   "execution_count": 2,
   "id": "2e10e22e",
   "metadata": {},
   "outputs": [],
   "source": [
    "with open('../data/fitted_systems/fit_1mm_Q1d5_age1e5.pkl','rb') as f:\n",
    "    Ds = np.array(pickle.load(f))\n",
    "\n",
    "import astropy.table\n",
    "data = astropy.table.Table.read(\"../data/VANDAM_T20_properties.txt\", format=\"ascii\")\n",
    "data.add_index('Source') # add index by source"
   ]
  },
  {
   "cell_type": "code",
   "execution_count": 3,
   "id": "35678b09",
   "metadata": {},
   "outputs": [],
   "source": [
    "def get_stats(Ds, output_for_table=False, head=''):\n",
    "    Md = np.array([(D.disk_model.M-D.disk_model.Mstar)/Msun for D in Ds])\n",
    "    Rd = np.array([D.disk_model.Rd/au for D in Ds])\n",
    "    T_mid_center = np.array([D.disk_model.T_mid[np.argmin(np.abs(D.disk_model.R/D.disk_model.Rd-0.5))] for D in Ds])\n",
    "    if output_for_table:\n",
    "        s = head + '  '\n",
    "        s += '& {:.2f} & {:.2f} & {:.2f} & {:.2f} '.format(np.mean(Md), np.percentile(Md, 25), np.median(Md) ,np.percentile(Md, 75))\n",
    "        s += '& {:.1f} & {:.1f} & {:.1f} '.format(np.percentile(Rd, 25), np.median(Rd) ,np.percentile(Rd, 75))\n",
    "        s += '& {:.1f} & {:.1f} & {:.1f} '.format(np.percentile(T_mid_center, 25), np.median(T_mid_center) ,np.percentile(T_mid_center, 75))\n",
    "        s += r'\\\\'\n",
    "        print(s)\n",
    "    else:\n",
    "        print('Md (mean, 25%, median, 75%): {:.2f}, {:.2f}, {:.2f}, {:.2f}'.format(np.mean(Md), np.percentile(Md, 25), np.median(Md) ,np.percentile(Md, 75)))\n",
    "        print('Rd (25%, median, 75%): {:.2f}, {:.2f}, {:.2f}'.format(np.percentile(Rd, 25), np.median(Rd) ,np.percentile(Rd, 75)))\n",
    "        print('T_mid(R/2) (25%, median, 75%): {:.2f}, {:.2f}, {:.2f}'.format(np.percentile(T_mid_center, 25), np.median(T_mid_center) ,np.percentile(T_mid_center, 75)))\n",
    "    return Md, Rd, T_mid_center\n",
    "\n",
    "def get_stats_T20(Ds, output_for_table=False, head=''):\n",
    "    Md = np.array([\n",
    "        data['MdiskA'][data.loc_indices[D.source_name]]*Mearth*100/Msun\n",
    "        for D in Ds\n",
    "    ])\n",
    "    Rd = np.array([\n",
    "        data['RdiskA'][data.loc_indices[D.source_name]]\n",
    "        for D in Ds\n",
    "    ])\n",
    "    T_mid_center = np.array([\n",
    "        43*data['Lbol'][data.loc_indices[D.source_name]]**0.25\n",
    "        for D in Ds\n",
    "    ])\n",
    "    T_mid_center = T_mid_center[~np.isnan(T_mid_center)]\n",
    "    if output_for_table:\n",
    "        s = head + '  '\n",
    "        s += '& {:.3f} & {:.3f} & {:.3f} & {:.3f} '.format(np.mean(Md), np.percentile(Md, 25), np.median(Md) ,np.percentile(Md, 75))\n",
    "        s += '& {:.1f} & {:.1f} & {:.1f} '.format(np.percentile(Rd, 25), np.median(Rd) ,np.percentile(Rd, 75))\n",
    "        s += '& {:.1f} & {:.1f} & {:.1f} '.format(np.percentile(T_mid_center, 25), np.median(T_mid_center) ,np.percentile(T_mid_center, 75))\n",
    "        s += r'\\\\'\n",
    "        print(s)\n",
    "    else:\n",
    "        print('Md (mean, 25%, median, 75%): {:.2f}, {:.2f}, {:.2f}, {:.2f}'.format(np.mean(Md), np.percentile(Md, 25), np.median(Md) ,np.percentile(Md, 75)))\n",
    "        print('Rd (25%, median, 75%): {:.2f}, {:.2f}, {:.2f}'.format(np.percentile(Rd, 25), np.median(Rd) ,np.percentile(Rd, 75)))\n",
    "        print('T_mid(R/2) (25%, median, 75%): {:.2f}, {:.2f}, {:.2f}'.format(np.percentile(T_mid_center, 25), np.median(T_mid_center) ,np.percentile(T_mid_center, 75)))\n",
    "    return Md, Rd, T_mid_center"
   ]
  },
  {
   "cell_type": "code",
   "execution_count": 4,
   "id": "631b273b",
   "metadata": {},
   "outputs": [],
   "source": [
    "def get_class(D):\n",
    "    i = data.loc_indices[D.source_name]\n",
    "    if data['Class'][i]=='0':\n",
    "        return 0\n",
    "    if data['Class'][i]=='I':\n",
    "        return 1\n",
    "    if data['Class'][i]=='Flat':\n",
    "        return 1.5\n",
    "    if data['Class'][i]=='None':\n",
    "        return -1\n",
    "    else:\n",
    "        raise ValueError('unknown class!')"
   ]
  },
  {
   "cell_type": "code",
   "execution_count": 5,
   "id": "a3b70add",
   "metadata": {},
   "outputs": [],
   "source": [
    "cl = np.array([get_class(D) for D in Ds])"
   ]
  },
  {
   "cell_type": "code",
   "execution_count": 6,
   "id": "9720ce90",
   "metadata": {},
   "outputs": [
    {
     "name": "stdout",
     "output_type": "stream",
     "text": [
      "total: 156\n",
      "Class 0: 96\n",
      "Class I: 36\n",
      "Flat: 20\n",
      "unclassified: 4\n"
     ]
    }
   ],
   "source": [
    "print('total:',len(cl))\n",
    "print('Class 0:',np.sum(cl==0))\n",
    "print('Class I:',np.sum(cl==1))\n",
    "print('Flat:',np.sum(cl==1.5))\n",
    "print('unclassified:',np.sum(cl==-1))"
   ]
  },
  {
   "cell_type": "markdown",
   "id": "8a5eae5e",
   "metadata": {},
   "source": [
    "# Disk property summary (Table 2)"
   ]
  },
  {
   "cell_type": "code",
   "execution_count": 7,
   "id": "df5c8a70",
   "metadata": {},
   "outputs": [
    {
     "name": "stdout",
     "output_type": "stream",
     "text": [
      "115\n"
     ]
    }
   ],
   "source": [
    "# select the subsample with chi^2 <= 2\n",
    "from get_chi_sq import get_mean_chisq_mult\n",
    "chi_sq = get_mean_chisq_mult(Ds)\n",
    "Ds_low_chi = Ds[chi_sq<=2]\n",
    "print(len(Ds_low_chi))\n",
    "\n",
    "cl_low_chi = np.array([get_class(D) for D in Ds_low_chi])"
   ]
  },
  {
   "cell_type": "code",
   "execution_count": 8,
   "id": "0cbd6ddb",
   "metadata": {},
   "outputs": [
    {
     "name": "stdout",
     "output_type": "stream",
     "text": [
      "All  & 0.94 & 0.31 & 0.65 & 1.21 & 28.7 & 68.0 & 141.9 & 16.8 & 50.7 & 129.8 \\\\\n",
      "Class 0  & 0.95 & 0.31 & 0.75 & 1.24 & 31.8 & 87.2 & 157.8 & 11.7 & 47.1 & 129.6 \\\\\n",
      "Class I  & 1.14 & 0.46 & 0.71 & 1.32 & 29.8 & 52.8 & 116.8 & 30.6 & 81.1 & 147.6 \\\\\n",
      "Flat Spectrum  & 0.48 & 0.19 & 0.28 & 0.49 & 29.0 & 50.2 & 84.7 & 15.7 & 26.6 & 58.7 \\\\\n",
      "T20  & 0.023 & 0.005 & 0.014 & 0.030 & 32.6 & 48.4 & 80.8 & 45.0 & 58.6 & 78.6 \\\\\n"
     ]
    },
    {
     "name": "stderr",
     "output_type": "stream",
     "text": [
      "<ipython-input-3-8065bb7e3576>:27: UserWarning: Warning: converting a masked element to nan.\n",
      "  T_mid_center = np.array([\n"
     ]
    }
   ],
   "source": [
    "data_all=get_stats(Ds_low_chi, output_for_table=True, head='All')\n",
    "data_0=get_stats(Ds_low_chi[cl_low_chi==0], output_for_table=True, head='Class 0')\n",
    "data_I=get_stats(Ds_low_chi[cl_low_chi==1], output_for_table=True, head='Class I')\n",
    "data_Flat=get_stats(Ds_low_chi[cl_low_chi==1.5], output_for_table=True, head='Flat Spectrum')\n",
    "_=get_stats_T20(Ds_low_chi, output_for_table=True, head='T20')"
   ]
  },
  {
   "cell_type": "markdown",
   "id": "f0e3afbe",
   "metadata": {},
   "source": [
    "# Class dependence plot (Fig. 13)"
   ]
  },
  {
   "cell_type": "code",
   "execution_count": 9,
   "id": "9029004b",
   "metadata": {},
   "outputs": [],
   "source": [
    "def plot_cumulative_dist(x, **kwargs):\n",
    "    N = len(x)\n",
    "    x = np.concatenate(([0],np.sort(x)))\n",
    "    y = 1-np.arange(N+1)/(N)\n",
    "    p,=plt.plot(x,y,**kwargs)\n",
    "    return p"
   ]
  },
  {
   "cell_type": "code",
   "execution_count": 10,
   "id": "fe2a20c4",
   "metadata": {},
   "outputs": [],
   "source": [
    "import matplotlib\n",
    "N = 3\n",
    "colors = matplotlib.cm.get_cmap('plasma')((np.arange(N)+0.5)/N)[::-1]"
   ]
  },
  {
   "cell_type": "code",
   "execution_count": 11,
   "id": "b84400e4",
   "metadata": {},
   "outputs": [
    {
     "data": {
      "image/png": "[encoded data removed]",
      "text/plain": [
       "<Figure size 324x216 with 1 Axes>"
      ]
     },
     "metadata": {
      "needs_background": "light"
     },
     "output_type": "display_data"
    }
   ],
   "source": [
    "plt.figure(figsize=(4.5,3))\n",
    "p4=plot_cumulative_dist(data_all[1], color='tab:grey')\n",
    "p3=plot_cumulative_dist(data_Flat[1], color=colors[2])\n",
    "p2=plot_cumulative_dist(data_I[1], color=colors[1])\n",
    "p1=plot_cumulative_dist(data_0[1], color=colors[0])\n",
    "plt.legend([p1,p2,p3,p4],['Class 0','Class I','Flat Spectrum','all systems'], frameon=False)\n",
    "plt.xlim(5,500); plt.xscale('log'); plt.xlabel(r'$R_{\\rm d}$ [au]')\n",
    "plt.ylim(0,1); plt.ylabel(r'Fraction with $\\geq R_{\\rm d}$')\n",
    "set_ticks()\n",
    "plt.tight_layout()\n",
    "plt.savefig('../figures/class_Rd.pdf',bbox_inches='tight')"
   ]
  },
  {
   "cell_type": "code",
   "execution_count": 12,
   "id": "4c44b3a4",
   "metadata": {},
   "outputs": [
    {
     "data": {
      "image/png": "[encoded data removed]",
      "text/plain": [
       "<Figure size 324x216 with 1 Axes>"
      ]
     },
     "metadata": {
      "needs_background": "light"
     },
     "output_type": "display_data"
    }
   ],
   "source": [
    "plt.figure(figsize=(4.5,3))\n",
    "p4=plot_cumulative_dist(data_all[0], color='tab:grey')\n",
    "p3=plot_cumulative_dist(data_Flat[0], color=colors[2])\n",
    "p2=plot_cumulative_dist(data_I[0], color=colors[1])\n",
    "p1=plot_cumulative_dist(data_0[0], color=colors[0])\n",
    "plt.legend([p1,p2,p3,p4],['Class 0','Class I','Flat Spectrum','all systems'], frameon=False)\n",
    "plt.xlim(7e-2,7); plt.xscale('log'); plt.xlabel(r'$M_{\\rm d}$ [M$_\\odot$]');\n",
    "plt.ylim(0,1); plt.ylabel(r'Fraction with $\\geq M_{\\rm d}$')\n",
    "set_ticks()\n",
    "plt.tight_layout()\n",
    "plt.savefig('../figures/class_Md.pdf',bbox_inches='tight')"
   ]
  },
  {
   "cell_type": "markdown",
   "id": "f26420bd",
   "metadata": {},
   "source": [
    "# Sensitvity to model parameter (Table B1)"
   ]
  },
  {
   "cell_type": "code",
   "execution_count": 13,
   "id": "827c613c",
   "metadata": {},
   "outputs": [],
   "source": [
    "def get_data_one(D):\n",
    "    DM = D.disk_model\n",
    "    Md_over_Mstar = (DM.M-DM.Mstar)/DM.Mstar\n",
    "    T_mid_center = DM.T_mid[np.argmin(np.abs(DM.R/DM.Rd-0.5))]\n",
    "    Sigma_center = DM.Sigma[np.argmin(np.abs(DM.R/DM.Rd-0.5))]\n",
    "    return [DM.Rd/au, (DM.M-DM.Mstar)/Msun, DM.Mstar/Msun, Md_over_Mstar, T_mid_center, Sigma_center]\n",
    "def get_data(Ds):\n",
    "    d = [get_data_one(D) for D in Ds[chi_sq<=2]]\n",
    "    return np.array(d)\n",
    "def get_parameter_sensitivity(D1, D2, dlogx):\n",
    "    d1 = get_data(D1)\n",
    "    d2 = get_data(D2)\n",
    "    dlogy_mean = np.mean(np.log(d2)-np.log(d1), axis=0)/dlogx\n",
    "    dlogy_std = np.std(np.log(d2)-np.log(d1), axis=0)/dlogx\n",
    "    dlogy_rms = np.sqrt(np.mean((np.log(d2)-np.log(d1))**2, axis=0))/dlogx\n",
    "    y_names = ['Rd','Md','Mstar','Md/Mstar','Tmid half','Sigma half']\n",
    "    s = ''\n",
    "    for i in range(len(dlogy_mean)):\n",
    "        #print(y_names[i]+' {:+.2f}$\\pm${:.2f}'.format(dlogy_mean[i],dlogy_std[i]))\n",
    "        s += '& {:+.2f}$\\pm${:.2f} '.format(dlogy_mean[i],dlogy_std[i])\n",
    "    s += r'\\\\'\n",
    "    print(s)\n",
    "    return dlogy_rms"
   ]
  },
  {
   "cell_type": "code",
   "execution_count": 14,
   "id": "53cb7bab",
   "metadata": {},
   "outputs": [],
   "source": [
    "with open('../data/fitted_systems/fit_1mm_Q1d5_age1e5.pkl','rb') as f:\n",
    "    Ds = np.array(pickle.load(f))\n",
    "with open('../data/fitted_systems/fit_1mm_Q1_age1e5.pkl','rb') as f:\n",
    "    Ds_Q1 = np.array(pickle.load(f))\n",
    "with open('../data/fitted_systems/fit_1mm_Q2_age1e5.pkl','rb') as f:\n",
    "    Ds_Q2 = np.array(pickle.load(f))\n",
    "with open('../data/fitted_systems/fit_1cm_Q1d5_age1e5.pkl','rb') as f:\n",
    "    Ds_1cm = np.array(pickle.load(f))\n",
    "with open('../data/fitted_systems/fit_100um_Q1d5_age1e5.pkl','rb') as f:\n",
    "    Ds_100um = np.array(pickle.load(f))\n",
    "with open('../data/fitted_systems/fit_1mm_Q1d5_age5e4.pkl','rb') as f:\n",
    "    Ds_Mdot_double = np.array(pickle.load(f))\n",
    "with open('../data/fitted_systems/fit_1mm_Q1d5_age2e5.pkl','rb') as f:\n",
    "    Ds_Mdot_half = np.array(pickle.load(f))"
   ]
  },
  {
   "cell_type": "code",
   "execution_count": 15,
   "id": "5acfab7f",
   "metadata": {},
   "outputs": [
    {
     "name": "stdout",
     "output_type": "stream",
     "text": [
      "& +0.09$\\pm$0.11 & -0.05$\\pm$0.05 & -0.05$\\pm$0.13 & -0.01$\\pm$0.08 & -0.24$\\pm$0.23 & -0.28$\\pm$0.30 \\\\\n",
      "& -0.02$\\pm$0.24 & -0.17$\\pm$0.14 & -0.47$\\pm$0.39 & +0.30$\\pm$0.26 & +0.07$\\pm$0.51 & -0.06$\\pm$0.70 \\\\\n",
      "& -0.31$\\pm$0.61 & -0.82$\\pm$0.51 & +1.60$\\pm$1.31 & -2.41$\\pm$0.87 & +0.79$\\pm$1.42 & -0.16$\\pm$1.86 \\\\\n"
     ]
    }
   ],
   "source": [
    "dlogy_rms_a = get_parameter_sensitivity(Ds_100um, Ds_1cm, np.log(100))\n",
    "dlogy_rms_Mdot = get_parameter_sensitivity(Ds_Mdot_half, Ds_Mdot_double, np.log(4))\n",
    "dlogy_rms_Q = get_parameter_sensitivity(Ds_Q1, Ds_Q2, np.log(2))"
   ]
  },
  {
   "cell_type": "code",
   "execution_count": 16,
   "id": "8adbe080",
   "metadata": {},
   "outputs": [],
   "source": [
    "dlogx_est_a = np.log(10)\n",
    "dlogx_est_Mdot = np.log(10)\n",
    "dlogx_est_Q = np.log(2)/2\n",
    "dlogy = np.sqrt( dlogy_rms_a**2   * dlogx_est_a**2\n",
    "                +dlogy_rms_Mdot**2* dlogx_est_Mdot**2\n",
    "                +dlogy_rms_Q**2   * dlogx_est_Q**2)"
   ]
  },
  {
   "cell_type": "code",
   "execution_count": 17,
   "id": "87c52fad",
   "metadata": {},
   "outputs": [],
   "source": [
    "def print_rms(dlogy_rms, dlogx_est):\n",
    "    dlogy = dlogy_rms*dlogx_est\n",
    "    s = ''\n",
    "    for i in range(len(dlogy)):\n",
    "        s += '& {:.2f} '.format(dlogy[i])\n",
    "    s += r'\\\\'\n",
    "    print(s)"
   ]
  },
  {
   "cell_type": "code",
   "execution_count": 18,
   "id": "752f44fc",
   "metadata": {},
   "outputs": [
    {
     "name": "stdout",
     "output_type": "stream",
     "text": [
      "& 0.34 & 0.17 & 0.31 & 0.19 & 0.77 & 0.95 \\\\\n",
      "& 0.55 & 0.50 & 1.40 & 0.91 & 1.19 & 1.62 \\\\\n",
      "& 0.24 & 0.33 & 0.72 & 0.89 & 0.56 & 0.65 \\\\\n",
      "& 0.69 & 0.63 & 1.60 & 1.29 & 1.52 & 1.99 \\\\\n"
     ]
    }
   ],
   "source": [
    "print_rms(dlogy_rms_a, dlogx_est_a)\n",
    "print_rms(dlogy_rms_Mdot, dlogx_est_Mdot)\n",
    "print_rms(dlogy_rms_Q, dlogx_est_Q)\n",
    "print_rms(dlogy, 1)"
   ]
  },
  {
   "cell_type": "markdown",
   "id": "be073d60",
   "metadata": {},
   "source": [
    "# Estimate covariance (for scatter plots)"
   ]
  },
  {
   "cell_type": "code",
   "execution_count": 19,
   "id": "6efb9dd5",
   "metadata": {},
   "outputs": [],
   "source": [
    "def get_cov(D1, D2, dlogx_D, dlogx_est):\n",
    "    d1 = get_data(D1)\n",
    "    d2 = get_data(D2)\n",
    "    dlogy = np.log(d2)-np.log(d1)\n",
    "    N = dlogy.shape[0]\n",
    "    covy = np.transpose(dlogy).dot(dlogy)/N/dlogx_D**2*dlogx_est**2\n",
    "    return covy"
   ]
  },
  {
   "cell_type": "code",
   "execution_count": 20,
   "id": "8b0ad9cd",
   "metadata": {},
   "outputs": [],
   "source": [
    "covy_a = get_cov(Ds_100um, Ds_1cm, np.log(100), np.log(10))\n",
    "covy_Mdot = get_cov(Ds_Mdot_half, Ds_Mdot_double, np.log(4), np.log(10))\n",
    "covy_Q = get_cov(Ds_Q1, Ds_Q2, np.log(2), np.log(2)/2)\n",
    "covy = covy_a+covy_Mdot+covy_Q"
   ]
  },
  {
   "cell_type": "code",
   "execution_count": 21,
   "id": "1c4c22e6",
   "metadata": {},
   "outputs": [
    {
     "data": {
      "text/plain": [
       "0.6913233134287137"
      ]
     },
     "execution_count": 21,
     "metadata": {},
     "output_type": "execute_result"
    }
   ],
   "source": [
    "np.sqrt(covy[0,0])"
   ]
  },
  {
   "cell_type": "code",
   "execution_count": 22,
   "id": "0fd37103",
   "metadata": {},
   "outputs": [
    {
     "name": "stdout",
     "output_type": "stream",
     "text": [
      "2.5714915060417005 0.391028923446095 0.6517567189474585\n"
     ]
    }
   ],
   "source": [
    "# Mstar vs Mdisk\n",
    "print(covy[2,2], covy[1,1], covy[2,1])"
   ]
  },
  {
   "cell_type": "code",
   "execution_count": 23,
   "id": "fc0b3edc",
   "metadata": {},
   "outputs": [
    {
     "name": "stdout",
     "output_type": "stream",
     "text": [
      "0.47792792369005543 0.391028923446095 -0.13481476262969155\n"
     ]
    }
   ],
   "source": [
    "# Rdisk vs Mdisk\n",
    "print(covy[0,0], covy[1,1], covy[0,1])"
   ]
  },
  {
   "cell_type": "markdown",
   "id": "ee1a7261",
   "metadata": {},
   "source": [
    "# How many systems' radius estimate is only a lower limit?"
   ]
  },
  {
   "cell_type": "code",
   "execution_count": 9,
   "id": "c257c0e2",
   "metadata": {},
   "outputs": [],
   "source": [
    "def get_F_edge_over_sigma_obs(D):\n",
    "    F_edge = D.disk_model.F_obs[0][-1]\n",
    "    sigma_obs = D.disk_image_list[0].rms_Jy\n",
    "    F_edge_Jy_beam = F_edge*1e23*D.disk_image_list[0].beam_area\n",
    "    return F_edge_Jy_beam/sigma_obs\n",
    "F_over_sigma = np.array([get_F_edge_over_sigma_obs(D) for D in Ds])"
   ]
  },
  {
   "cell_type": "code",
   "execution_count": 19,
   "id": "ae68e2c7",
   "metadata": {},
   "outputs": [
    {
     "data": {
      "text/plain": [
       "31"
      ]
     },
     "execution_count": 19,
     "metadata": {},
     "output_type": "execute_result"
    }
   ],
   "source": [
    "np.sum(F_over_sigma<1.01)"
   ]
  },
  {
   "cell_type": "code",
   "execution_count": null,
   "id": "3f416ec3",
   "metadata": {},
   "outputs": [],
   "source": []
  }
 ],
 "metadata": {
  "kernelspec": {
   "display_name": "Python 3",
   "language": "python",
   "name": "python3"
  },
  "language_info": {
   "codemirror_mode": {
    "name": "ipython",
    "version": 3
   },
   "file_extension": ".py",
   "mimetype": "text/x-python",
   "name": "python",
   "nbconvert_exporter": "python",
   "pygments_lexer": "ipython3",
   "version": "3.8.8"
  }
 },
 "nbformat": 4,
 "nbformat_minor": 5
}
